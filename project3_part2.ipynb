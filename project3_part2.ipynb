{
 "cells": [
  {
   "cell_type": "markdown",
   "metadata": {},
   "source": [
    "<img src=\"http://imgur.com/1ZcRyrc.png\" style=\"float: left; margin: 20px; height: 55px\">\n",
    "\n",
    "# Project 3: Web APIs & NLP (Part 2/2)"
   ]
  },
  {
   "cell_type": "markdown",
   "metadata": {},
   "source": [
    "**Note**: This is a part 2 of Project 3."
   ]
  },
  {
   "cell_type": "markdown",
   "metadata": {},
   "source": [
    "### Contents:\n",
    "- [Data Cleaning & EDA](#Data-Cleaning-&-EDA)\n",
    "- [Preprocessing & Modeling](#Preprocessing-&-Modeling)\n",
    "- [Evaluation and Conceptual Understanding](#Evaluation-and-Conceptual-Understanding)\n",
    "- [Conclusions and Recommendations](#Conclusions-and-Recommendations)"
   ]
  },
  {
   "cell_type": "markdown",
   "metadata": {},
   "source": [
    "## Data Cleaning & EDA"
   ]
  },
  {
   "cell_type": "code",
   "execution_count": 1,
   "metadata": {},
   "outputs": [],
   "source": [
    "# Import libaries\n",
    "import pandas as pd       \n",
    "import numpy as np\n",
    "import seaborn as sns\n",
    "from nltk.tokenize import sent_tokenize, word_tokenize, RegexpTokenizer\n",
    "from nltk.stem import WordNetLemmatizer\n",
    "from nltk.stem.porter import PorterStemmer\n",
    "from nltk.corpus import stopwords\n",
    "from nltk.sentiment.vader import SentimentIntensityAnalyzer\n",
    "import re\n",
    "from sklearn.metrics import accuracy_score\n",
    "import matplotlib.pyplot as plt\n",
    "from sklearn.model_selection import train_test_split, GridSearchCV\n",
    "from sklearn.pipeline import Pipeline\n",
    "from sklearn.naive_bayes import MultinomialNB\n",
    "from sklearn.metrics import confusion_matrix, plot_confusion_matrix, f1_score, ConfusionMatrixDisplay\n",
    "from sklearn.linear_model import LogisticRegression\n",
    "from sklearn.ensemble import RandomForestClassifier, ExtraTreesClassifier\n",
    "from sklearn.feature_extraction.text import CountVectorizer, TfidfVectorizer\n",
    "from prettytable import PrettyTable\n",
    "from wordcloud import WordCloud, STOPWORDS, ImageColorGenerator\n",
    "# see more characters in a column\n",
    "pd.options.display.max_colwidth = 400"
   ]
  },
  {
   "cell_type": "code",
   "execution_count": 2,
   "metadata": {},
   "outputs": [
    {
     "name": "stdout",
     "output_type": "stream",
     "text": [
      "(2100, 82)\n"
     ]
    },
    {
     "data": {
      "text/html": [
       "<div>\n",
       "<style scoped>\n",
       "    .dataframe tbody tr th:only-of-type {\n",
       "        vertical-align: middle;\n",
       "    }\n",
       "\n",
       "    .dataframe tbody tr th {\n",
       "        vertical-align: top;\n",
       "    }\n",
       "\n",
       "    .dataframe thead th {\n",
       "        text-align: right;\n",
       "    }\n",
       "</style>\n",
       "<table border=\"1\" class=\"dataframe\">\n",
       "  <thead>\n",
       "    <tr style=\"text-align: right;\">\n",
       "      <th></th>\n",
       "      <th>all_awardings</th>\n",
       "      <th>allow_live_comments</th>\n",
       "      <th>author</th>\n",
       "      <th>author_flair_css_class</th>\n",
       "      <th>author_flair_richtext</th>\n",
       "      <th>author_flair_text</th>\n",
       "      <th>author_flair_type</th>\n",
       "      <th>author_fullname</th>\n",
       "      <th>author_is_blocked</th>\n",
       "      <th>author_patreon_flair</th>\n",
       "      <th>...</th>\n",
       "      <th>author_flair_template_id</th>\n",
       "      <th>author_flair_text_color</th>\n",
       "      <th>media_metadata</th>\n",
       "      <th>is_gallery</th>\n",
       "      <th>author_cakeday</th>\n",
       "      <th>author_flair_background_color</th>\n",
       "      <th>edited</th>\n",
       "      <th>banned_by</th>\n",
       "      <th>gilded</th>\n",
       "      <th>gallery_data</th>\n",
       "    </tr>\n",
       "  </thead>\n",
       "  <tbody>\n",
       "    <tr>\n",
       "      <th>0</th>\n",
       "      <td>[]</td>\n",
       "      <td>False</td>\n",
       "      <td>TV_quirks</td>\n",
       "      <td>NaN</td>\n",
       "      <td>[]</td>\n",
       "      <td>NaN</td>\n",
       "      <td>text</td>\n",
       "      <td>t2_h1gmxqqf</td>\n",
       "      <td>False</td>\n",
       "      <td>False</td>\n",
       "      <td>...</td>\n",
       "      <td>NaN</td>\n",
       "      <td>NaN</td>\n",
       "      <td>NaN</td>\n",
       "      <td>NaN</td>\n",
       "      <td>NaN</td>\n",
       "      <td>NaN</td>\n",
       "      <td>NaN</td>\n",
       "      <td>NaN</td>\n",
       "      <td>NaN</td>\n",
       "      <td>NaN</td>\n",
       "    </tr>\n",
       "    <tr>\n",
       "      <th>1</th>\n",
       "      <td>[]</td>\n",
       "      <td>False</td>\n",
       "      <td>Outrageous_Resist447</td>\n",
       "      <td>NaN</td>\n",
       "      <td>[]</td>\n",
       "      <td>NaN</td>\n",
       "      <td>text</td>\n",
       "      <td>t2_daj28e5r</td>\n",
       "      <td>False</td>\n",
       "      <td>False</td>\n",
       "      <td>...</td>\n",
       "      <td>NaN</td>\n",
       "      <td>NaN</td>\n",
       "      <td>NaN</td>\n",
       "      <td>NaN</td>\n",
       "      <td>NaN</td>\n",
       "      <td>NaN</td>\n",
       "      <td>NaN</td>\n",
       "      <td>NaN</td>\n",
       "      <td>NaN</td>\n",
       "      <td>NaN</td>\n",
       "    </tr>\n",
       "    <tr>\n",
       "      <th>2</th>\n",
       "      <td>[]</td>\n",
       "      <td>False</td>\n",
       "      <td>Otherwise-Book-5327</td>\n",
       "      <td>NaN</td>\n",
       "      <td>[]</td>\n",
       "      <td>NaN</td>\n",
       "      <td>text</td>\n",
       "      <td>t2_8uxu5a93</td>\n",
       "      <td>False</td>\n",
       "      <td>False</td>\n",
       "      <td>...</td>\n",
       "      <td>NaN</td>\n",
       "      <td>NaN</td>\n",
       "      <td>NaN</td>\n",
       "      <td>NaN</td>\n",
       "      <td>NaN</td>\n",
       "      <td>NaN</td>\n",
       "      <td>NaN</td>\n",
       "      <td>NaN</td>\n",
       "      <td>NaN</td>\n",
       "      <td>NaN</td>\n",
       "    </tr>\n",
       "    <tr>\n",
       "      <th>3</th>\n",
       "      <td>[]</td>\n",
       "      <td>False</td>\n",
       "      <td>SilentConsciou5</td>\n",
       "      <td>NaN</td>\n",
       "      <td>[]</td>\n",
       "      <td>NaN</td>\n",
       "      <td>text</td>\n",
       "      <td>t2_cdee3vc1</td>\n",
       "      <td>False</td>\n",
       "      <td>False</td>\n",
       "      <td>...</td>\n",
       "      <td>NaN</td>\n",
       "      <td>NaN</td>\n",
       "      <td>NaN</td>\n",
       "      <td>NaN</td>\n",
       "      <td>NaN</td>\n",
       "      <td>NaN</td>\n",
       "      <td>NaN</td>\n",
       "      <td>NaN</td>\n",
       "      <td>NaN</td>\n",
       "      <td>NaN</td>\n",
       "    </tr>\n",
       "    <tr>\n",
       "      <th>4</th>\n",
       "      <td>[]</td>\n",
       "      <td>False</td>\n",
       "      <td>gamerjam</td>\n",
       "      <td>NaN</td>\n",
       "      <td>[]</td>\n",
       "      <td>NaN</td>\n",
       "      <td>text</td>\n",
       "      <td>t2_14i9x9</td>\n",
       "      <td>False</td>\n",
       "      <td>False</td>\n",
       "      <td>...</td>\n",
       "      <td>NaN</td>\n",
       "      <td>NaN</td>\n",
       "      <td>NaN</td>\n",
       "      <td>NaN</td>\n",
       "      <td>NaN</td>\n",
       "      <td>NaN</td>\n",
       "      <td>NaN</td>\n",
       "      <td>NaN</td>\n",
       "      <td>NaN</td>\n",
       "      <td>NaN</td>\n",
       "    </tr>\n",
       "  </tbody>\n",
       "</table>\n",
       "<p>5 rows × 82 columns</p>\n",
       "</div>"
      ],
      "text/plain": [
       "  all_awardings  allow_live_comments                author  \\\n",
       "0            []                False             TV_quirks   \n",
       "1            []                False  Outrageous_Resist447   \n",
       "2            []                False   Otherwise-Book-5327   \n",
       "3            []                False       SilentConsciou5   \n",
       "4            []                False              gamerjam   \n",
       "\n",
       "  author_flair_css_class author_flair_richtext author_flair_text  \\\n",
       "0                    NaN                    []               NaN   \n",
       "1                    NaN                    []               NaN   \n",
       "2                    NaN                    []               NaN   \n",
       "3                    NaN                    []               NaN   \n",
       "4                    NaN                    []               NaN   \n",
       "\n",
       "  author_flair_type author_fullname  author_is_blocked author_patreon_flair  \\\n",
       "0              text     t2_h1gmxqqf              False                False   \n",
       "1              text     t2_daj28e5r              False                False   \n",
       "2              text     t2_8uxu5a93              False                False   \n",
       "3              text     t2_cdee3vc1              False                False   \n",
       "4              text       t2_14i9x9              False                False   \n",
       "\n",
       "   ... author_flair_template_id author_flair_text_color  media_metadata  \\\n",
       "0  ...                      NaN                     NaN             NaN   \n",
       "1  ...                      NaN                     NaN             NaN   \n",
       "2  ...                      NaN                     NaN             NaN   \n",
       "3  ...                      NaN                     NaN             NaN   \n",
       "4  ...                      NaN                     NaN             NaN   \n",
       "\n",
       "   is_gallery  author_cakeday author_flair_background_color edited banned_by  \\\n",
       "0         NaN             NaN                           NaN    NaN       NaN   \n",
       "1         NaN             NaN                           NaN    NaN       NaN   \n",
       "2         NaN             NaN                           NaN    NaN       NaN   \n",
       "3         NaN             NaN                           NaN    NaN       NaN   \n",
       "4         NaN             NaN                           NaN    NaN       NaN   \n",
       "\n",
       "  gilded  gallery_data  \n",
       "0    NaN           NaN  \n",
       "1    NaN           NaN  \n",
       "2    NaN           NaN  \n",
       "3    NaN           NaN  \n",
       "4    NaN           NaN  \n",
       "\n",
       "[5 rows x 82 columns]"
      ]
     },
     "execution_count": 2,
     "metadata": {},
     "output_type": "execute_result"
    }
   ],
   "source": [
    "#read Aliens post\n",
    "df_aliens = pd.read_csv('aliens_raw')\n",
    "print(df_aliens.shape)\n",
    "df_aliens.head()"
   ]
  },
  {
   "cell_type": "code",
   "execution_count": 3,
   "metadata": {},
   "outputs": [
    {
     "name": "stdout",
     "output_type": "stream",
     "text": [
      "(2100, 80)\n"
     ]
    },
    {
     "data": {
      "text/html": [
       "<div>\n",
       "<style scoped>\n",
       "    .dataframe tbody tr th:only-of-type {\n",
       "        vertical-align: middle;\n",
       "    }\n",
       "\n",
       "    .dataframe tbody tr th {\n",
       "        vertical-align: top;\n",
       "    }\n",
       "\n",
       "    .dataframe thead th {\n",
       "        text-align: right;\n",
       "    }\n",
       "</style>\n",
       "<table border=\"1\" class=\"dataframe\">\n",
       "  <thead>\n",
       "    <tr style=\"text-align: right;\">\n",
       "      <th></th>\n",
       "      <th>all_awardings</th>\n",
       "      <th>allow_live_comments</th>\n",
       "      <th>author</th>\n",
       "      <th>author_flair_css_class</th>\n",
       "      <th>author_flair_richtext</th>\n",
       "      <th>author_flair_text</th>\n",
       "      <th>author_flair_type</th>\n",
       "      <th>author_fullname</th>\n",
       "      <th>author_is_blocked</th>\n",
       "      <th>author_patreon_flair</th>\n",
       "      <th>...</th>\n",
       "      <th>removed_by_category</th>\n",
       "      <th>media_metadata</th>\n",
       "      <th>gallery_data</th>\n",
       "      <th>is_gallery</th>\n",
       "      <th>author_flair_background_color</th>\n",
       "      <th>author_flair_text_color</th>\n",
       "      <th>banned_by</th>\n",
       "      <th>author_cakeday</th>\n",
       "      <th>suggested_sort</th>\n",
       "      <th>link_flair_template_id</th>\n",
       "    </tr>\n",
       "  </thead>\n",
       "  <tbody>\n",
       "    <tr>\n",
       "      <th>0</th>\n",
       "      <td>[]</td>\n",
       "      <td>False</td>\n",
       "      <td>finngraeff</td>\n",
       "      <td>NaN</td>\n",
       "      <td>[]</td>\n",
       "      <td>NaN</td>\n",
       "      <td>text</td>\n",
       "      <td>t2_2l6bwd5n</td>\n",
       "      <td>False</td>\n",
       "      <td>False</td>\n",
       "      <td>...</td>\n",
       "      <td>NaN</td>\n",
       "      <td>NaN</td>\n",
       "      <td>NaN</td>\n",
       "      <td>NaN</td>\n",
       "      <td>NaN</td>\n",
       "      <td>NaN</td>\n",
       "      <td>NaN</td>\n",
       "      <td>NaN</td>\n",
       "      <td>NaN</td>\n",
       "      <td>NaN</td>\n",
       "    </tr>\n",
       "    <tr>\n",
       "      <th>1</th>\n",
       "      <td>[]</td>\n",
       "      <td>False</td>\n",
       "      <td>DygonZ</td>\n",
       "      <td>NaN</td>\n",
       "      <td>[]</td>\n",
       "      <td>NaN</td>\n",
       "      <td>text</td>\n",
       "      <td>t2_14n14g</td>\n",
       "      <td>False</td>\n",
       "      <td>False</td>\n",
       "      <td>...</td>\n",
       "      <td>NaN</td>\n",
       "      <td>NaN</td>\n",
       "      <td>NaN</td>\n",
       "      <td>NaN</td>\n",
       "      <td>NaN</td>\n",
       "      <td>NaN</td>\n",
       "      <td>NaN</td>\n",
       "      <td>NaN</td>\n",
       "      <td>NaN</td>\n",
       "      <td>NaN</td>\n",
       "    </tr>\n",
       "    <tr>\n",
       "      <th>2</th>\n",
       "      <td>[]</td>\n",
       "      <td>False</td>\n",
       "      <td>AstroSam1902</td>\n",
       "      <td>NaN</td>\n",
       "      <td>[]</td>\n",
       "      <td>NaN</td>\n",
       "      <td>text</td>\n",
       "      <td>t2_fnme3jo2</td>\n",
       "      <td>False</td>\n",
       "      <td>False</td>\n",
       "      <td>...</td>\n",
       "      <td>NaN</td>\n",
       "      <td>NaN</td>\n",
       "      <td>NaN</td>\n",
       "      <td>NaN</td>\n",
       "      <td>NaN</td>\n",
       "      <td>NaN</td>\n",
       "      <td>NaN</td>\n",
       "      <td>NaN</td>\n",
       "      <td>NaN</td>\n",
       "      <td>NaN</td>\n",
       "    </tr>\n",
       "    <tr>\n",
       "      <th>3</th>\n",
       "      <td>[]</td>\n",
       "      <td>False</td>\n",
       "      <td>EdwardHeisler</td>\n",
       "      <td>NaN</td>\n",
       "      <td>[]</td>\n",
       "      <td>NaN</td>\n",
       "      <td>text</td>\n",
       "      <td>t2_l5xw626</td>\n",
       "      <td>False</td>\n",
       "      <td>False</td>\n",
       "      <td>...</td>\n",
       "      <td>NaN</td>\n",
       "      <td>NaN</td>\n",
       "      <td>NaN</td>\n",
       "      <td>NaN</td>\n",
       "      <td>NaN</td>\n",
       "      <td>NaN</td>\n",
       "      <td>NaN</td>\n",
       "      <td>NaN</td>\n",
       "      <td>NaN</td>\n",
       "      <td>NaN</td>\n",
       "    </tr>\n",
       "    <tr>\n",
       "      <th>4</th>\n",
       "      <td>[]</td>\n",
       "      <td>False</td>\n",
       "      <td>shhmikis</td>\n",
       "      <td>NaN</td>\n",
       "      <td>[]</td>\n",
       "      <td>NaN</td>\n",
       "      <td>text</td>\n",
       "      <td>t2_6pvendfn</td>\n",
       "      <td>False</td>\n",
       "      <td>False</td>\n",
       "      <td>...</td>\n",
       "      <td>NaN</td>\n",
       "      <td>NaN</td>\n",
       "      <td>NaN</td>\n",
       "      <td>NaN</td>\n",
       "      <td>NaN</td>\n",
       "      <td>NaN</td>\n",
       "      <td>NaN</td>\n",
       "      <td>NaN</td>\n",
       "      <td>NaN</td>\n",
       "      <td>NaN</td>\n",
       "    </tr>\n",
       "  </tbody>\n",
       "</table>\n",
       "<p>5 rows × 80 columns</p>\n",
       "</div>"
      ],
      "text/plain": [
       "  all_awardings  allow_live_comments         author  author_flair_css_class  \\\n",
       "0            []                False     finngraeff                     NaN   \n",
       "1            []                False         DygonZ                     NaN   \n",
       "2            []                False   AstroSam1902                     NaN   \n",
       "3            []                False  EdwardHeisler                     NaN   \n",
       "4            []                False       shhmikis                     NaN   \n",
       "\n",
       "  author_flair_richtext  author_flair_text author_flair_type author_fullname  \\\n",
       "0                    []                NaN              text     t2_2l6bwd5n   \n",
       "1                    []                NaN              text       t2_14n14g   \n",
       "2                    []                NaN              text     t2_fnme3jo2   \n",
       "3                    []                NaN              text      t2_l5xw626   \n",
       "4                    []                NaN              text     t2_6pvendfn   \n",
       "\n",
       "   author_is_blocked author_patreon_flair  ... removed_by_category  \\\n",
       "0              False                False  ...                 NaN   \n",
       "1              False                False  ...                 NaN   \n",
       "2              False                False  ...                 NaN   \n",
       "3              False                False  ...                 NaN   \n",
       "4              False                False  ...                 NaN   \n",
       "\n",
       "  media_metadata  gallery_data  is_gallery  author_flair_background_color  \\\n",
       "0            NaN           NaN         NaN                            NaN   \n",
       "1            NaN           NaN         NaN                            NaN   \n",
       "2            NaN           NaN         NaN                            NaN   \n",
       "3            NaN           NaN         NaN                            NaN   \n",
       "4            NaN           NaN         NaN                            NaN   \n",
       "\n",
       "  author_flair_text_color banned_by author_cakeday suggested_sort  \\\n",
       "0                     NaN       NaN            NaN            NaN   \n",
       "1                     NaN       NaN            NaN            NaN   \n",
       "2                     NaN       NaN            NaN            NaN   \n",
       "3                     NaN       NaN            NaN            NaN   \n",
       "4                     NaN       NaN            NaN            NaN   \n",
       "\n",
       "   link_flair_template_id  \n",
       "0                     NaN  \n",
       "1                     NaN  \n",
       "2                     NaN  \n",
       "3                     NaN  \n",
       "4                     NaN  \n",
       "\n",
       "[5 rows x 80 columns]"
      ]
     },
     "execution_count": 3,
     "metadata": {},
     "output_type": "execute_result"
    }
   ],
   "source": [
    "#read Space posts\n",
    "df_space = pd.read_csv('space_raw')\n",
    "print(df_space.shape)\n",
    "df_space.head()"
   ]
  },
  {
   "cell_type": "code",
   "execution_count": 4,
   "metadata": {},
   "outputs": [
    {
     "data": {
      "text/html": [
       "<div>\n",
       "<style scoped>\n",
       "    .dataframe tbody tr th:only-of-type {\n",
       "        vertical-align: middle;\n",
       "    }\n",
       "\n",
       "    .dataframe tbody tr th {\n",
       "        vertical-align: top;\n",
       "    }\n",
       "\n",
       "    .dataframe thead th {\n",
       "        text-align: right;\n",
       "    }\n",
       "</style>\n",
       "<table border=\"1\" class=\"dataframe\">\n",
       "  <thead>\n",
       "    <tr style=\"text-align: right;\">\n",
       "      <th></th>\n",
       "      <th>all_awardings</th>\n",
       "      <th>allow_live_comments</th>\n",
       "      <th>author</th>\n",
       "      <th>author_flair_css_class</th>\n",
       "      <th>author_flair_richtext</th>\n",
       "      <th>author_flair_text</th>\n",
       "      <th>author_flair_type</th>\n",
       "      <th>author_fullname</th>\n",
       "      <th>author_is_blocked</th>\n",
       "      <th>author_patreon_flair</th>\n",
       "      <th>...</th>\n",
       "      <th>author_flair_text_color</th>\n",
       "      <th>media_metadata</th>\n",
       "      <th>is_gallery</th>\n",
       "      <th>author_cakeday</th>\n",
       "      <th>author_flair_background_color</th>\n",
       "      <th>edited</th>\n",
       "      <th>banned_by</th>\n",
       "      <th>gilded</th>\n",
       "      <th>gallery_data</th>\n",
       "      <th>suggested_sort</th>\n",
       "    </tr>\n",
       "  </thead>\n",
       "  <tbody>\n",
       "    <tr>\n",
       "      <th>0</th>\n",
       "      <td>[]</td>\n",
       "      <td>False</td>\n",
       "      <td>TV_quirks</td>\n",
       "      <td>NaN</td>\n",
       "      <td>[]</td>\n",
       "      <td>NaN</td>\n",
       "      <td>text</td>\n",
       "      <td>t2_h1gmxqqf</td>\n",
       "      <td>False</td>\n",
       "      <td>False</td>\n",
       "      <td>...</td>\n",
       "      <td>NaN</td>\n",
       "      <td>NaN</td>\n",
       "      <td>NaN</td>\n",
       "      <td>NaN</td>\n",
       "      <td>NaN</td>\n",
       "      <td>NaN</td>\n",
       "      <td>NaN</td>\n",
       "      <td>NaN</td>\n",
       "      <td>NaN</td>\n",
       "      <td>NaN</td>\n",
       "    </tr>\n",
       "    <tr>\n",
       "      <th>1</th>\n",
       "      <td>[]</td>\n",
       "      <td>False</td>\n",
       "      <td>Outrageous_Resist447</td>\n",
       "      <td>NaN</td>\n",
       "      <td>[]</td>\n",
       "      <td>NaN</td>\n",
       "      <td>text</td>\n",
       "      <td>t2_daj28e5r</td>\n",
       "      <td>False</td>\n",
       "      <td>False</td>\n",
       "      <td>...</td>\n",
       "      <td>NaN</td>\n",
       "      <td>NaN</td>\n",
       "      <td>NaN</td>\n",
       "      <td>NaN</td>\n",
       "      <td>NaN</td>\n",
       "      <td>NaN</td>\n",
       "      <td>NaN</td>\n",
       "      <td>NaN</td>\n",
       "      <td>NaN</td>\n",
       "      <td>NaN</td>\n",
       "    </tr>\n",
       "    <tr>\n",
       "      <th>2</th>\n",
       "      <td>[]</td>\n",
       "      <td>False</td>\n",
       "      <td>Otherwise-Book-5327</td>\n",
       "      <td>NaN</td>\n",
       "      <td>[]</td>\n",
       "      <td>NaN</td>\n",
       "      <td>text</td>\n",
       "      <td>t2_8uxu5a93</td>\n",
       "      <td>False</td>\n",
       "      <td>False</td>\n",
       "      <td>...</td>\n",
       "      <td>NaN</td>\n",
       "      <td>NaN</td>\n",
       "      <td>NaN</td>\n",
       "      <td>NaN</td>\n",
       "      <td>NaN</td>\n",
       "      <td>NaN</td>\n",
       "      <td>NaN</td>\n",
       "      <td>NaN</td>\n",
       "      <td>NaN</td>\n",
       "      <td>NaN</td>\n",
       "    </tr>\n",
       "    <tr>\n",
       "      <th>3</th>\n",
       "      <td>[]</td>\n",
       "      <td>False</td>\n",
       "      <td>SilentConsciou5</td>\n",
       "      <td>NaN</td>\n",
       "      <td>[]</td>\n",
       "      <td>NaN</td>\n",
       "      <td>text</td>\n",
       "      <td>t2_cdee3vc1</td>\n",
       "      <td>False</td>\n",
       "      <td>False</td>\n",
       "      <td>...</td>\n",
       "      <td>NaN</td>\n",
       "      <td>NaN</td>\n",
       "      <td>NaN</td>\n",
       "      <td>NaN</td>\n",
       "      <td>NaN</td>\n",
       "      <td>NaN</td>\n",
       "      <td>NaN</td>\n",
       "      <td>NaN</td>\n",
       "      <td>NaN</td>\n",
       "      <td>NaN</td>\n",
       "    </tr>\n",
       "    <tr>\n",
       "      <th>4</th>\n",
       "      <td>[]</td>\n",
       "      <td>False</td>\n",
       "      <td>gamerjam</td>\n",
       "      <td>NaN</td>\n",
       "      <td>[]</td>\n",
       "      <td>NaN</td>\n",
       "      <td>text</td>\n",
       "      <td>t2_14i9x9</td>\n",
       "      <td>False</td>\n",
       "      <td>False</td>\n",
       "      <td>...</td>\n",
       "      <td>NaN</td>\n",
       "      <td>NaN</td>\n",
       "      <td>NaN</td>\n",
       "      <td>NaN</td>\n",
       "      <td>NaN</td>\n",
       "      <td>NaN</td>\n",
       "      <td>NaN</td>\n",
       "      <td>NaN</td>\n",
       "      <td>NaN</td>\n",
       "      <td>NaN</td>\n",
       "    </tr>\n",
       "  </tbody>\n",
       "</table>\n",
       "<p>5 rows × 83 columns</p>\n",
       "</div>"
      ],
      "text/plain": [
       "  all_awardings  allow_live_comments                author  \\\n",
       "0            []                False             TV_quirks   \n",
       "1            []                False  Outrageous_Resist447   \n",
       "2            []                False   Otherwise-Book-5327   \n",
       "3            []                False       SilentConsciou5   \n",
       "4            []                False              gamerjam   \n",
       "\n",
       "  author_flair_css_class author_flair_richtext author_flair_text  \\\n",
       "0                    NaN                    []               NaN   \n",
       "1                    NaN                    []               NaN   \n",
       "2                    NaN                    []               NaN   \n",
       "3                    NaN                    []               NaN   \n",
       "4                    NaN                    []               NaN   \n",
       "\n",
       "  author_flair_type author_fullname  author_is_blocked author_patreon_flair  \\\n",
       "0              text     t2_h1gmxqqf              False                False   \n",
       "1              text     t2_daj28e5r              False                False   \n",
       "2              text     t2_8uxu5a93              False                False   \n",
       "3              text     t2_cdee3vc1              False                False   \n",
       "4              text       t2_14i9x9              False                False   \n",
       "\n",
       "   ... author_flair_text_color media_metadata  is_gallery  author_cakeday  \\\n",
       "0  ...                     NaN            NaN         NaN             NaN   \n",
       "1  ...                     NaN            NaN         NaN             NaN   \n",
       "2  ...                     NaN            NaN         NaN             NaN   \n",
       "3  ...                     NaN            NaN         NaN             NaN   \n",
       "4  ...                     NaN            NaN         NaN             NaN   \n",
       "\n",
       "   author_flair_background_color edited banned_by gilded gallery_data  \\\n",
       "0                            NaN    NaN       NaN    NaN          NaN   \n",
       "1                            NaN    NaN       NaN    NaN          NaN   \n",
       "2                            NaN    NaN       NaN    NaN          NaN   \n",
       "3                            NaN    NaN       NaN    NaN          NaN   \n",
       "4                            NaN    NaN       NaN    NaN          NaN   \n",
       "\n",
       "   suggested_sort  \n",
       "0             NaN  \n",
       "1             NaN  \n",
       "2             NaN  \n",
       "3             NaN  \n",
       "4             NaN  \n",
       "\n",
       "[5 rows x 83 columns]"
      ]
     },
     "execution_count": 4,
     "metadata": {},
     "output_type": "execute_result"
    }
   ],
   "source": [
    "#merge Aliens and Space posts into single dataframe\n",
    "df = pd.concat([df_aliens,df_space])\n",
    "df.head()"
   ]
  },
  {
   "cell_type": "code",
   "execution_count": 5,
   "metadata": {},
   "outputs": [],
   "source": [
    "#retain only useful features\n",
    "df = df[[\"title\",\"selftext\",\"subreddit\"]]"
   ]
  },
  {
   "cell_type": "code",
   "execution_count": 6,
   "metadata": {},
   "outputs": [
    {
     "name": "stdout",
     "output_type": "stream",
     "text": [
      "(4200, 3)\n"
     ]
    },
    {
     "data": {
      "text/html": [
       "<div>\n",
       "<style scoped>\n",
       "    .dataframe tbody tr th:only-of-type {\n",
       "        vertical-align: middle;\n",
       "    }\n",
       "\n",
       "    .dataframe tbody tr th {\n",
       "        vertical-align: top;\n",
       "    }\n",
       "\n",
       "    .dataframe thead th {\n",
       "        text-align: right;\n",
       "    }\n",
       "</style>\n",
       "<table border=\"1\" class=\"dataframe\">\n",
       "  <thead>\n",
       "    <tr style=\"text-align: right;\">\n",
       "      <th></th>\n",
       "      <th>title</th>\n",
       "      <th>selftext</th>\n",
       "      <th>subreddit</th>\n",
       "    </tr>\n",
       "  </thead>\n",
       "  <tbody>\n",
       "    <tr>\n",
       "      <th>0</th>\n",
       "      <td>Supergroup 1917: \"how telegram.org is raising me\"</td>\n",
       "      <td>NaN</td>\n",
       "      <td>aliens</td>\n",
       "    </tr>\n",
       "    <tr>\n",
       "      <th>1</th>\n",
       "      <td>Stanton Friedman Discusses Stephen Hawking &amp;amp; SETI</td>\n",
       "      <td>NaN</td>\n",
       "      <td>aliens</td>\n",
       "    </tr>\n",
       "    <tr>\n",
       "      <th>2</th>\n",
       "      <td>Kind of foolish but I got very scared after I saw this photo I took off my window just to realize it is just a reflection off my lamp</td>\n",
       "      <td>NaN</td>\n",
       "      <td>aliens</td>\n",
       "    </tr>\n",
       "    <tr>\n",
       "      <th>3</th>\n",
       "      <td>Aliens troll and gaslight on the internet all the time.</td>\n",
       "      <td>One of them probably even tea-bagged you in a video game and you didn't even know it was them.  They have always been around and use our tech like anyone else.</td>\n",
       "      <td>aliens</td>\n",
       "    </tr>\n",
       "    <tr>\n",
       "      <th>4</th>\n",
       "      <td>Are there any youtube channels that look at aliens sigtings or evidence from a skeptical view?</td>\n",
       "      <td>Like trying to figure out what it is and not immediately jumping to aliens but going in depth on analyzing everything about it.</td>\n",
       "      <td>aliens</td>\n",
       "    </tr>\n",
       "    <tr>\n",
       "      <th>...</th>\n",
       "      <td>...</td>\n",
       "      <td>...</td>\n",
       "      <td>...</td>\n",
       "    </tr>\n",
       "    <tr>\n",
       "      <th>2095</th>\n",
       "      <td>Space Force celebrates second anniversary as arms race in space heats up</td>\n",
       "      <td>NaN</td>\n",
       "      <td>space</td>\n",
       "    </tr>\n",
       "    <tr>\n",
       "      <th>2096</th>\n",
       "      <td>Engine Computer Problem Delays First SLS Launch</td>\n",
       "      <td>NaN</td>\n",
       "      <td>space</td>\n",
       "    </tr>\n",
       "    <tr>\n",
       "      <th>2097</th>\n",
       "      <td>Satellites integration in PICOBUS pocket-satellite deployer for the second flight of Firefly Alpha launch is now live</td>\n",
       "      <td>NaN</td>\n",
       "      <td>space</td>\n",
       "    </tr>\n",
       "    <tr>\n",
       "      <th>2098</th>\n",
       "      <td>What’s the best location to watch crs-24</td>\n",
       "      <td>NaN</td>\n",
       "      <td>space</td>\n",
       "    </tr>\n",
       "    <tr>\n",
       "      <th>2099</th>\n",
       "      <td>“The Indian Space Program is far more developed than China.”</td>\n",
       "      <td>NaN</td>\n",
       "      <td>space</td>\n",
       "    </tr>\n",
       "  </tbody>\n",
       "</table>\n",
       "<p>4200 rows × 3 columns</p>\n",
       "</div>"
      ],
      "text/plain": [
       "                                                                                                                                      title  \\\n",
       "0                                                                                         Supergroup 1917: \"how telegram.org is raising me\"   \n",
       "1                                                                                     Stanton Friedman Discusses Stephen Hawking &amp; SETI   \n",
       "2     Kind of foolish but I got very scared after I saw this photo I took off my window just to realize it is just a reflection off my lamp   \n",
       "3                                                                                   Aliens troll and gaslight on the internet all the time.   \n",
       "4                                            Are there any youtube channels that look at aliens sigtings or evidence from a skeptical view?   \n",
       "...                                                                                                                                     ...   \n",
       "2095                                                               Space Force celebrates second anniversary as arms race in space heats up   \n",
       "2096                                                                                        Engine Computer Problem Delays First SLS Launch   \n",
       "2097                  Satellites integration in PICOBUS pocket-satellite deployer for the second flight of Firefly Alpha launch is now live   \n",
       "2098                                                                                               What’s the best location to watch crs-24   \n",
       "2099                                                                           “The Indian Space Program is far more developed than China.”   \n",
       "\n",
       "                                                                                                                                                             selftext  \\\n",
       "0                                                                                                                                                                 NaN   \n",
       "1                                                                                                                                                                 NaN   \n",
       "2                                                                                                                                                                 NaN   \n",
       "3     One of them probably even tea-bagged you in a video game and you didn't even know it was them.  They have always been around and use our tech like anyone else.   \n",
       "4                                     Like trying to figure out what it is and not immediately jumping to aliens but going in depth on analyzing everything about it.   \n",
       "...                                                                                                                                                               ...   \n",
       "2095                                                                                                                                                              NaN   \n",
       "2096                                                                                                                                                              NaN   \n",
       "2097                                                                                                                                                              NaN   \n",
       "2098                                                                                                                                                              NaN   \n",
       "2099                                                                                                                                                              NaN   \n",
       "\n",
       "     subreddit  \n",
       "0       aliens  \n",
       "1       aliens  \n",
       "2       aliens  \n",
       "3       aliens  \n",
       "4       aliens  \n",
       "...        ...  \n",
       "2095     space  \n",
       "2096     space  \n",
       "2097     space  \n",
       "2098     space  \n",
       "2099     space  \n",
       "\n",
       "[4200 rows x 3 columns]"
      ]
     },
     "execution_count": 6,
     "metadata": {},
     "output_type": "execute_result"
    }
   ],
   "source": [
    "print(df.shape)\n",
    "df"
   ]
  },
  {
   "cell_type": "markdown",
   "metadata": {},
   "source": [
    "**Interpretation**: aliens posts and space posts has been merged with aliens posts on top and space posts at the bottom."
   ]
  },
  {
   "cell_type": "code",
   "execution_count": 7,
   "metadata": {
    "scrolled": true
   },
   "outputs": [
    {
     "data": {
      "text/plain": [
       "title        4200\n",
       "selftext     1848\n",
       "subreddit    4200\n",
       "dtype: int64"
      ]
     },
     "execution_count": 7,
     "metadata": {},
     "output_type": "execute_result"
    }
   ],
   "source": [
    "df.notna().sum()"
   ]
  },
  {
   "cell_type": "code",
   "execution_count": 8,
   "metadata": {},
   "outputs": [],
   "source": [
    "#remove \"[removed]\" in posts\n",
    "df = df.replace(\"[removed]\", np.nan)"
   ]
  },
  {
   "cell_type": "code",
   "execution_count": 9,
   "metadata": {
    "scrolled": true
   },
   "outputs": [],
   "source": [
    "#remove \"[deleted]\" in posts\n",
    "df = df.replace(\"[deleted]\", np.nan)"
   ]
  },
  {
   "cell_type": "code",
   "execution_count": 10,
   "metadata": {
    "scrolled": true
   },
   "outputs": [],
   "source": [
    "#remove empty value in \"selftext\" column\n",
    "df = df.dropna(subset=[\"selftext\"])"
   ]
  },
  {
   "cell_type": "code",
   "execution_count": 11,
   "metadata": {},
   "outputs": [],
   "source": [
    "#reset index after remove empty cell\n",
    "df.reset_index(drop = True, inplace=True)"
   ]
  },
  {
   "cell_type": "code",
   "execution_count": 12,
   "metadata": {
    "scrolled": true
   },
   "outputs": [
    {
     "name": "stdout",
     "output_type": "stream",
     "text": [
      "<class 'pandas.core.frame.DataFrame'>\n",
      "RangeIndex: 1600 entries, 0 to 1599\n",
      "Data columns (total 3 columns):\n",
      " #   Column     Non-Null Count  Dtype \n",
      "---  ------     --------------  ----- \n",
      " 0   title      1600 non-null   object\n",
      " 1   selftext   1600 non-null   object\n",
      " 2   subreddit  1600 non-null   object\n",
      "dtypes: object(3)\n",
      "memory usage: 37.6+ KB\n"
     ]
    }
   ],
   "source": [
    "#check that all remaining documents are without null value\n",
    "df.info()"
   ]
  },
  {
   "cell_type": "code",
   "execution_count": 13,
   "metadata": {},
   "outputs": [],
   "source": [
    "#combine \"title\" and \"selftext\" column together, since title may add value in differentiating posts into subreddit\n",
    "df[\"post\"] = df[\"title\"]+ \" \" + df[\"selftext\"]"
   ]
  },
  {
   "cell_type": "code",
   "execution_count": 14,
   "metadata": {
    "scrolled": true
   },
   "outputs": [],
   "source": [
    "# check word count for each post\n",
    "df[\"post_count\"] = df[\"post\"].map(lambda x: len(x))"
   ]
  },
  {
   "cell_type": "code",
   "execution_count": 15,
   "metadata": {},
   "outputs": [],
   "source": [
    "# map aliens as \"1\" and space as \"0\"\n",
    "df[\"subreddit\"] = df[\"subreddit\"].map({\"aliens\":1, \"space\":0})"
   ]
  },
  {
   "cell_type": "code",
   "execution_count": 16,
   "metadata": {
    "scrolled": true
   },
   "outputs": [
    {
     "data": {
      "text/html": [
       "<div>\n",
       "<style scoped>\n",
       "    .dataframe tbody tr th:only-of-type {\n",
       "        vertical-align: middle;\n",
       "    }\n",
       "\n",
       "    .dataframe tbody tr th {\n",
       "        vertical-align: top;\n",
       "    }\n",
       "\n",
       "    .dataframe thead th {\n",
       "        text-align: right;\n",
       "    }\n",
       "</style>\n",
       "<table border=\"1\" class=\"dataframe\">\n",
       "  <thead>\n",
       "    <tr style=\"text-align: right;\">\n",
       "      <th></th>\n",
       "      <th>title</th>\n",
       "      <th>selftext</th>\n",
       "      <th>subreddit</th>\n",
       "      <th>post</th>\n",
       "      <th>post_count</th>\n",
       "    </tr>\n",
       "  </thead>\n",
       "  <tbody>\n",
       "    <tr>\n",
       "      <th>0</th>\n",
       "      <td>Aliens troll and gaslight on the internet all the time.</td>\n",
       "      <td>One of them probably even tea-bagged you in a video game and you didn't even know it was them.  They have always been around and use our tech like anyone else.</td>\n",
       "      <td>1</td>\n",
       "      <td>Aliens troll and gaslight on the internet all the time. One of them probably even tea-bagged you in a video game and you didn't even know it was them.  They have always been around and use our tech like anyone else.</td>\n",
       "      <td>215</td>\n",
       "    </tr>\n",
       "    <tr>\n",
       "      <th>1</th>\n",
       "      <td>Are there any youtube channels that look at aliens sigtings or evidence from a skeptical view?</td>\n",
       "      <td>Like trying to figure out what it is and not immediately jumping to aliens but going in depth on analyzing everything about it.</td>\n",
       "      <td>1</td>\n",
       "      <td>Are there any youtube channels that look at aliens sigtings or evidence from a skeptical view? Like trying to figure out what it is and not immediately jumping to aliens but going in depth on analyzing everything about it.</td>\n",
       "      <td>222</td>\n",
       "    </tr>\n",
       "    <tr>\n",
       "      <th>2</th>\n",
       "      <td>What are the current hot topics in alien discussion?</td>\n",
       "      <td>I write as I started browsing this sub this week.\\n\\nBack in 2006 when I was middle school I got bored online and started looking up UFO stuff. The old websites are hide to find but I found a lot of cool photos. \\n\\nI used to read those strange mysteries books that were dedicated to different states and they have a bunch of cool lesser known stories. \\n\\nAround 2007 or 2008 I heard of the 2012...</td>\n",
       "      <td>1</td>\n",
       "      <td>What are the current hot topics in alien discussion? I write as I started browsing this sub this week.\\n\\nBack in 2006 when I was middle school I got bored online and started looking up UFO stuff. The old websites are hide to find but I found a lot of cool photos. \\n\\nI used to read those strange mysteries books that were dedicated to different states and they have a bunch of cool lesser known...</td>\n",
       "      <td>1717</td>\n",
       "    </tr>\n",
       "    <tr>\n",
       "      <th>3</th>\n",
       "      <td>everything “woo woo” about the way UAPs behave/appear to us humans could be explained by a technology millions of years ahead of our own</td>\n",
       "      <td>I see a lot of opinions on this sub and in general of these UAPs being interdimensional, ultra dimensional, from another reality, etc. due to how they seem to behave. but it could just be our puny human minds trying to rationalize a technology that seems magical or “woo”.\\n\\nknowing what we know about the universe only being 13 billion years old, it seems to me that it’s *far* more likely thei...</td>\n",
       "      <td>1</td>\n",
       "      <td>everything “woo woo” about the way UAPs behave/appear to us humans could be explained by a technology millions of years ahead of our own I see a lot of opinions on this sub and in general of these UAPs being interdimensional, ultra dimensional, from another reality, etc. due to how they seem to behave. but it could just be our puny human minds trying to rationalize a technology that seems magi...</td>\n",
       "      <td>820</td>\n",
       "    </tr>\n",
       "    <tr>\n",
       "      <th>4</th>\n",
       "      <td>Do you think that if an alien civilization is capable of speed of light travel that they should also probably be capable of time travel and/or inter dimensional travel just based on how technologically advanced they would have to be?</td>\n",
       "      <td>Just an afterthought, as an example this could explain that a lot of UFO sightings could be us from the future..</td>\n",
       "      <td>1</td>\n",
       "      <td>Do you think that if an alien civilization is capable of speed of light travel that they should also probably be capable of time travel and/or inter dimensional travel just based on how technologically advanced they would have to be? Just an afterthought, as an example this could explain that a lot of UFO sightings could be us from the future..</td>\n",
       "      <td>346</td>\n",
       "    </tr>\n",
       "    <tr>\n",
       "      <th>...</th>\n",
       "      <td>...</td>\n",
       "      <td>...</td>\n",
       "      <td>...</td>\n",
       "      <td>...</td>\n",
       "      <td>...</td>\n",
       "    </tr>\n",
       "    <tr>\n",
       "      <th>1595</th>\n",
       "      <td>I have a question?</td>\n",
       "      <td>I’m not a scientist in the slightest but would it be possible for dark energy to hide a planet in plain sight?, I was watching a video on YouTube called “gravity visualized” and when he brings up dark energy, I was was wondering if that also effected light? And if so could it be possible to hide a planet (relatively) near ours?\\n(Video I was referring to\\/)\\nhttps://youtu.be/MTY1Kje0yLg</td>\n",
       "      <td>0</td>\n",
       "      <td>I have a question? I’m not a scientist in the slightest but would it be possible for dark energy to hide a planet in plain sight?, I was watching a video on YouTube called “gravity visualized” and when he brings up dark energy, I was was wondering if that also effected light? And if so could it be possible to hide a planet (relatively) near ours?\\n(Video I was referring to\\/)\\nhttps://youtu.be...</td>\n",
       "      <td>406</td>\n",
       "    </tr>\n",
       "    <tr>\n",
       "      <th>1596</th>\n",
       "      <td>Clue guess who is the most annoying game I know of</td>\n",
       "      <td>I’m currently wandering existence with ppl who can’t directly tell me information I directly need to know it’s as if I went someplace and then somebody else copied my route… tryna get me too I just want to maintain my peace without the constant disturbances… and the moment I talk about it they instantly act as if nothing happened how do I word my responses to let it be known I only seek to enl...</td>\n",
       "      <td>0</td>\n",
       "      <td>Clue guess who is the most annoying game I know of I’m currently wandering existence with ppl who can’t directly tell me information I directly need to know it’s as if I went someplace and then somebody else copied my route… tryna get me too I just want to maintain my peace without the constant disturbances… and the moment I talk about it they instantly act as if nothing happened how do I word...</td>\n",
       "      <td>1254</td>\n",
       "    </tr>\n",
       "    <tr>\n",
       "      <th>1597</th>\n",
       "      <td>How do I post images here?</td>\n",
       "      <td>I want to post some images I found interesting here but it's harder than it seems, when I do post an image it seems it gets instantly deleted because when I check the page it isnt there can someone help me out here?</td>\n",
       "      <td>0</td>\n",
       "      <td>How do I post images here? I want to post some images I found interesting here but it's harder than it seems, when I do post an image it seems it gets instantly deleted because when I check the page it isnt there can someone help me out here?</td>\n",
       "      <td>242</td>\n",
       "    </tr>\n",
       "    <tr>\n",
       "      <th>1598</th>\n",
       "      <td>divergent women in space!</td>\n",
       "      <td>hey y'all, im part of a podcast featuring women of all backgrounds that are in the space field to inspire young girls of every background to join the space field. problem is, most of our guests are white, cishet, etc. and im trying to get more diverse folks. message me if interested!</td>\n",
       "      <td>0</td>\n",
       "      <td>divergent women in space! hey y'all, im part of a podcast featuring women of all backgrounds that are in the space field to inspire young girls of every background to join the space field. problem is, most of our guests are white, cishet, etc. and im trying to get more diverse folks. message me if interested!</td>\n",
       "      <td>310</td>\n",
       "    </tr>\n",
       "    <tr>\n",
       "      <th>1599</th>\n",
       "      <td>Question about the Parker Solar Probe video</td>\n",
       "      <td>Recently, Nasa released the clip of parker solar probe entering the corona of the sun. The question is how is the milky way visible in that video ? I mean, I can't even see the milky way where I live due to light pollution. But how did the probe capture the milky way when it almost touched the sun ?</td>\n",
       "      <td>0</td>\n",
       "      <td>Question about the Parker Solar Probe video Recently, Nasa released the clip of parker solar probe entering the corona of the sun. The question is how is the milky way visible in that video ? I mean, I can't even see the milky way where I live due to light pollution. But how did the probe capture the milky way when it almost touched the sun ?</td>\n",
       "      <td>344</td>\n",
       "    </tr>\n",
       "  </tbody>\n",
       "</table>\n",
       "<p>1600 rows × 5 columns</p>\n",
       "</div>"
      ],
      "text/plain": [
       "                                                                                                                                                                                                                                          title  \\\n",
       "0                                                                                                                                                                                       Aliens troll and gaslight on the internet all the time.   \n",
       "1                                                                                                                                                Are there any youtube channels that look at aliens sigtings or evidence from a skeptical view?   \n",
       "2                                                                                                                                                                                          What are the current hot topics in alien discussion?   \n",
       "3                                                                                                      everything “woo woo” about the way UAPs behave/appear to us humans could be explained by a technology millions of years ahead of our own   \n",
       "4     Do you think that if an alien civilization is capable of speed of light travel that they should also probably be capable of time travel and/or inter dimensional travel just based on how technologically advanced they would have to be?   \n",
       "...                                                                                                                                                                                                                                         ...   \n",
       "1595                                                                                                                                                                                                                         I have a question?   \n",
       "1596                                                                                                                                                                                         Clue guess who is the most annoying game I know of   \n",
       "1597                                                                                                                                                                                                                 How do I post images here?   \n",
       "1598                                                                                                                                                                                                                  divergent women in space!   \n",
       "1599                                                                                                                                                                                                Question about the Parker Solar Probe video   \n",
       "\n",
       "                                                                                                                                                                                                                                                                                                                                                                                                             selftext  \\\n",
       "0                                                                                                                                                                                                                                                     One of them probably even tea-bagged you in a video game and you didn't even know it was them.  They have always been around and use our tech like anyone else.   \n",
       "1                                                                                                                                                                                                                                                                                     Like trying to figure out what it is and not immediately jumping to aliens but going in depth on analyzing everything about it.   \n",
       "2     I write as I started browsing this sub this week.\\n\\nBack in 2006 when I was middle school I got bored online and started looking up UFO stuff. The old websites are hide to find but I found a lot of cool photos. \\n\\nI used to read those strange mysteries books that were dedicated to different states and they have a bunch of cool lesser known stories. \\n\\nAround 2007 or 2008 I heard of the 2012...   \n",
       "3     I see a lot of opinions on this sub and in general of these UAPs being interdimensional, ultra dimensional, from another reality, etc. due to how they seem to behave. but it could just be our puny human minds trying to rationalize a technology that seems magical or “woo”.\\n\\nknowing what we know about the universe only being 13 billion years old, it seems to me that it’s *far* more likely thei...   \n",
       "4                                                                                                                                                                                                                                                                                                    Just an afterthought, as an example this could explain that a lot of UFO sightings could be us from the future..   \n",
       "...                                                                                                                                                                                                                                                                                                                                                                                                               ...   \n",
       "1595            I’m not a scientist in the slightest but would it be possible for dark energy to hide a planet in plain sight?, I was watching a video on YouTube called “gravity visualized” and when he brings up dark energy, I was was wondering if that also effected light? And if so could it be possible to hide a planet (relatively) near ours?\\n(Video I was referring to\\/)\\nhttps://youtu.be/MTY1Kje0yLg   \n",
       "1596  I’m currently wandering existence with ppl who can’t directly tell me information I directly need to know it’s as if I went someplace and then somebody else copied my route… tryna get me too I just want to maintain my peace without the constant disturbances… and the moment I talk about it they instantly act as if nothing happened how do I word my responses to let it be known I only seek to enl...   \n",
       "1597                                                                                                                                                                                          I want to post some images I found interesting here but it's harder than it seems, when I do post an image it seems it gets instantly deleted because when I check the page it isnt there can someone help me out here?   \n",
       "1598                                                                                                                     hey y'all, im part of a podcast featuring women of all backgrounds that are in the space field to inspire young girls of every background to join the space field. problem is, most of our guests are white, cishet, etc. and im trying to get more diverse folks. message me if interested!   \n",
       "1599                                                                                                     Recently, Nasa released the clip of parker solar probe entering the corona of the sun. The question is how is the milky way visible in that video ? I mean, I can't even see the milky way where I live due to light pollution. But how did the probe capture the milky way when it almost touched the sun ?   \n",
       "\n",
       "      subreddit  \\\n",
       "0             1   \n",
       "1             1   \n",
       "2             1   \n",
       "3             1   \n",
       "4             1   \n",
       "...         ...   \n",
       "1595          0   \n",
       "1596          0   \n",
       "1597          0   \n",
       "1598          0   \n",
       "1599          0   \n",
       "\n",
       "                                                                                                                                                                                                                                                                                                                                                                                                                 post  \\\n",
       "0                                                                                                                                                                                             Aliens troll and gaslight on the internet all the time. One of them probably even tea-bagged you in a video game and you didn't even know it was them.  They have always been around and use our tech like anyone else.   \n",
       "1                                                                                                                                                                                      Are there any youtube channels that look at aliens sigtings or evidence from a skeptical view? Like trying to figure out what it is and not immediately jumping to aliens but going in depth on analyzing everything about it.   \n",
       "2     What are the current hot topics in alien discussion? I write as I started browsing this sub this week.\\n\\nBack in 2006 when I was middle school I got bored online and started looking up UFO stuff. The old websites are hide to find but I found a lot of cool photos. \\n\\nI used to read those strange mysteries books that were dedicated to different states and they have a bunch of cool lesser known...   \n",
       "3     everything “woo woo” about the way UAPs behave/appear to us humans could be explained by a technology millions of years ahead of our own I see a lot of opinions on this sub and in general of these UAPs being interdimensional, ultra dimensional, from another reality, etc. due to how they seem to behave. but it could just be our puny human minds trying to rationalize a technology that seems magi...   \n",
       "4                                                          Do you think that if an alien civilization is capable of speed of light travel that they should also probably be capable of time travel and/or inter dimensional travel just based on how technologically advanced they would have to be? Just an afterthought, as an example this could explain that a lot of UFO sightings could be us from the future..   \n",
       "...                                                                                                                                                                                                                                                                                                                                                                                                               ...   \n",
       "1595  I have a question? I’m not a scientist in the slightest but would it be possible for dark energy to hide a planet in plain sight?, I was watching a video on YouTube called “gravity visualized” and when he brings up dark energy, I was was wondering if that also effected light? And if so could it be possible to hide a planet (relatively) near ours?\\n(Video I was referring to\\/)\\nhttps://youtu.be...   \n",
       "1596  Clue guess who is the most annoying game I know of I’m currently wandering existence with ppl who can’t directly tell me information I directly need to know it’s as if I went someplace and then somebody else copied my route… tryna get me too I just want to maintain my peace without the constant disturbances… and the moment I talk about it they instantly act as if nothing happened how do I word...   \n",
       "1597                                                                                                                                                               How do I post images here? I want to post some images I found interesting here but it's harder than it seems, when I do post an image it seems it gets instantly deleted because when I check the page it isnt there can someone help me out here?   \n",
       "1598                                                                                           divergent women in space! hey y'all, im part of a podcast featuring women of all backgrounds that are in the space field to inspire young girls of every background to join the space field. problem is, most of our guests are white, cishet, etc. and im trying to get more diverse folks. message me if interested!   \n",
       "1599                                                         Question about the Parker Solar Probe video Recently, Nasa released the clip of parker solar probe entering the corona of the sun. The question is how is the milky way visible in that video ? I mean, I can't even see the milky way where I live due to light pollution. But how did the probe capture the milky way when it almost touched the sun ?   \n",
       "\n",
       "      post_count  \n",
       "0            215  \n",
       "1            222  \n",
       "2           1717  \n",
       "3            820  \n",
       "4            346  \n",
       "...          ...  \n",
       "1595         406  \n",
       "1596        1254  \n",
       "1597         242  \n",
       "1598         310  \n",
       "1599         344  \n",
       "\n",
       "[1600 rows x 5 columns]"
      ]
     },
     "execution_count": 16,
     "metadata": {},
     "output_type": "execute_result"
    }
   ],
   "source": [
    "df"
   ]
  },
  {
   "cell_type": "code",
   "execution_count": 17,
   "metadata": {},
   "outputs": [],
   "source": [
    "#group post by \"aliens\" and \"space\" for statistical analysis\n",
    "subreddit = df.groupby(\"subreddit\")"
   ]
  },
  {
   "cell_type": "code",
   "execution_count": 18,
   "metadata": {},
   "outputs": [
    {
     "data": {
      "text/plain": [
       "<pandas.core.groupby.generic.DataFrameGroupBy object at 0x7fa4bd80b610>"
      ]
     },
     "execution_count": 18,
     "metadata": {},
     "output_type": "execute_result"
    }
   ],
   "source": [
    "subreddit"
   ]
  },
  {
   "cell_type": "code",
   "execution_count": 19,
   "metadata": {
    "scrolled": false
   },
   "outputs": [
    {
     "data": {
      "text/html": [
       "<div>\n",
       "<style scoped>\n",
       "    .dataframe tbody tr th:only-of-type {\n",
       "        vertical-align: middle;\n",
       "    }\n",
       "\n",
       "    .dataframe tbody tr th {\n",
       "        vertical-align: top;\n",
       "    }\n",
       "\n",
       "    .dataframe thead tr th {\n",
       "        text-align: left;\n",
       "    }\n",
       "\n",
       "    .dataframe thead tr:last-of-type th {\n",
       "        text-align: right;\n",
       "    }\n",
       "</style>\n",
       "<table border=\"1\" class=\"dataframe\">\n",
       "  <thead>\n",
       "    <tr>\n",
       "      <th></th>\n",
       "      <th colspan=\"8\" halign=\"left\">post_count</th>\n",
       "    </tr>\n",
       "    <tr>\n",
       "      <th></th>\n",
       "      <th>count</th>\n",
       "      <th>mean</th>\n",
       "      <th>std</th>\n",
       "      <th>min</th>\n",
       "      <th>25%</th>\n",
       "      <th>50%</th>\n",
       "      <th>75%</th>\n",
       "      <th>max</th>\n",
       "    </tr>\n",
       "    <tr>\n",
       "      <th>subreddit</th>\n",
       "      <th></th>\n",
       "      <th></th>\n",
       "      <th></th>\n",
       "      <th></th>\n",
       "      <th></th>\n",
       "      <th></th>\n",
       "      <th></th>\n",
       "      <th></th>\n",
       "    </tr>\n",
       "  </thead>\n",
       "  <tbody>\n",
       "    <tr>\n",
       "      <th>0</th>\n",
       "      <td>537.0</td>\n",
       "      <td>516.903166</td>\n",
       "      <td>631.053911</td>\n",
       "      <td>31.0</td>\n",
       "      <td>196.0</td>\n",
       "      <td>340.0</td>\n",
       "      <td>553.0</td>\n",
       "      <td>5877.0</td>\n",
       "    </tr>\n",
       "    <tr>\n",
       "      <th>1</th>\n",
       "      <td>1063.0</td>\n",
       "      <td>1177.985889</td>\n",
       "      <td>2521.865403</td>\n",
       "      <td>14.0</td>\n",
       "      <td>266.0</td>\n",
       "      <td>584.0</td>\n",
       "      <td>1161.0</td>\n",
       "      <td>36454.0</td>\n",
       "    </tr>\n",
       "  </tbody>\n",
       "</table>\n",
       "</div>"
      ],
      "text/plain": [
       "          post_count                                                        \\\n",
       "               count         mean          std   min    25%    50%     75%   \n",
       "subreddit                                                                    \n",
       "0              537.0   516.903166   631.053911  31.0  196.0  340.0   553.0   \n",
       "1             1063.0  1177.985889  2521.865403  14.0  266.0  584.0  1161.0   \n",
       "\n",
       "                    \n",
       "               max  \n",
       "subreddit           \n",
       "0           5877.0  \n",
       "1          36454.0  "
      ]
     },
     "execution_count": 19,
     "metadata": {},
     "output_type": "execute_result"
    }
   ],
   "source": [
    "subreddit.describe()"
   ]
  },
  {
   "cell_type": "markdown",
   "metadata": {},
   "source": [
    "**Interpretation**: There are more aliens post than space posts, hence accuracy may not be the best metrics to evaluate model. Generally aliens have more word count in posts than space posts."
   ]
  },
  {
   "cell_type": "code",
   "execution_count": 20,
   "metadata": {
    "scrolled": false
   },
   "outputs": [
    {
     "data": {
      "text/plain": [
       "<AxesSubplot:title={'center':'Mean word count by subreddit'}, xlabel='subreddit', ylabel='post_count'>"
      ]
     },
     "execution_count": 20,
     "metadata": {},
     "output_type": "execute_result"
    },
    {
     "data": {
      "image/png": "[encoded data removed]",
      "text/plain": [
       "<Figure size 432x288 with 1 Axes>"
      ]
     },
     "metadata": {
      "needs_background": "light"
     },
     "output_type": "display_data"
    }
   ],
   "source": [
    "plt.title(\"Mean word count by subreddit\")\n",
    "sns.barplot(data = df, x=\"subreddit\", y=\"post_count\")\n"
   ]
  },
  {
   "cell_type": "code",
   "execution_count": 21,
   "metadata": {
    "scrolled": true
   },
   "outputs": [
    {
     "data": {
      "text/plain": [
       "([<matplotlib.axis.XTick at 0x7fa4b99aec10>,\n",
       "  <matplotlib.axis.XTick at 0x7fa4b99aef10>],\n",
       " [Text(0, 0, ''), Text(0, 0, '')])"
      ]
     },
     "execution_count": 21,
     "metadata": {},
     "output_type": "execute_result"
    },
    {
     "data": {
      "image/png": "[encoded data removed]",
      "text/plain": [
       "<Figure size 432x288 with 1 Axes>"
      ]
     },
     "metadata": {
      "needs_background": "light"
     },
     "output_type": "display_data"
    }
   ],
   "source": [
    "plt.bar(data = subreddit, x = df[\"subreddit\"], height = df[\"post_count\"])\n",
    "plt.title(\"Maximum word count in posts by subreddit\")\n",
    "plt.xlabel(\"subreddit\")\n",
    "plt.ylabel(\"word count\")\n",
    "plt.xticks([0,1])\n"
   ]
  },
  {
   "cell_type": "markdown",
   "metadata": {},
   "source": [
    "**Interpretation**: Alien posts has a lot more average word count than Space posts, the maximum word count also higher in aliens than space posts. "
   ]
  },
  {
   "cell_type": "code",
   "execution_count": 22,
   "metadata": {
    "scrolled": false
   },
   "outputs": [
    {
     "data": {
      "text/plain": [
       "Text(0.5, 1.0, 'Outlier by subreddit')"
      ]
     },
     "execution_count": 22,
     "metadata": {},
     "output_type": "execute_result"
    },
    {
     "data": {
      "image/png": "[encoded data removed]",
      "text/plain": [
       "<Figure size 720x432 with 1 Axes>"
      ]
     },
     "metadata": {
      "needs_background": "light"
     },
     "output_type": "display_data"
    }
   ],
   "source": [
    "plt.figure(figsize=(10,6))\n",
    "sns.boxplot(x = df[\"subreddit\"], y=df[\"post_count\"])\n",
    "plt.title(\"Outlier by subreddit\")"
   ]
  },
  {
   "cell_type": "markdown",
   "metadata": {},
   "source": [
    "**Interpretation**: Aliens posts have significant outliers in term of word count. Explore these extra long posts to see whether they are genuine posts. "
   ]
  },
  {
   "cell_type": "code",
   "execution_count": 23,
   "metadata": {
    "scrolled": true
   },
   "outputs": [
    {
     "data": {
      "text/html": [
       "<div>\n",
       "<style scoped>\n",
       "    .dataframe tbody tr th:only-of-type {\n",
       "        vertical-align: middle;\n",
       "    }\n",
       "\n",
       "    .dataframe tbody tr th {\n",
       "        vertical-align: top;\n",
       "    }\n",
       "\n",
       "    .dataframe thead th {\n",
       "        text-align: right;\n",
       "    }\n",
       "</style>\n",
       "<table border=\"1\" class=\"dataframe\">\n",
       "  <thead>\n",
       "    <tr style=\"text-align: right;\">\n",
       "      <th></th>\n",
       "      <th>title</th>\n",
       "      <th>selftext</th>\n",
       "      <th>subreddit</th>\n",
       "      <th>post</th>\n",
       "      <th>post_count</th>\n",
       "    </tr>\n",
       "  </thead>\n",
       "  <tbody>\n",
       "    <tr>\n",
       "      <th>273</th>\n",
       "      <td>Following Lue's Breadcrumbs To Some Deep Physics</td>\n",
       "      <td>TLDR; The breadcrumbs dropped by the disclosure team might have a strong tie to the time component of the [time evolution operator](https://i.postimg.cc/Wpy96bzJ/imaginary-evolution.png) of quantum mechanical systems.\\n\\n\\nDisclosure: I am not a physicist.\\n\\n\\nLue has stated twice that he leaves breadcrumbs in every interview.\\n\\n21OCT2021 - Theories of Everything with Lue\\nhttps://youtu.be/q...</td>\n",
       "      <td>1</td>\n",
       "      <td>Following Lue's Breadcrumbs To Some Deep Physics TLDR; The breadcrumbs dropped by the disclosure team might have a strong tie to the time component of the [time evolution operator](https://i.postimg.cc/Wpy96bzJ/imaginary-evolution.png) of quantum mechanical systems.\\n\\n\\nDisclosure: I am not a physicist.\\n\\n\\nLue has stated twice that he leaves breadcrumbs in every interview.\\n\\n21OCT2021 - Th...</td>\n",
       "      <td>19240</td>\n",
       "    </tr>\n",
       "    <tr>\n",
       "      <th>423</th>\n",
       "      <td>I met Tom Delonge and Luis Elizondo and these are my thoughts.</td>\n",
       "      <td>First, full disclosure. I am a US Army Counterintelligence Agent. This will be the first time I've posted something on Reddit in the 10 years I've been here that runs the risk of someone being able to figure out who I am based on the story I'm about to tell, but I'm nearly retired, so I think I'm probably alright.\\n\\nI want to start with a disclaimer. I know, having read a ton of books and wat...</td>\n",
       "      <td>1</td>\n",
       "      <td>I met Tom Delonge and Luis Elizondo and these are my thoughts. First, full disclosure. I am a US Army Counterintelligence Agent. This will be the first time I've posted something on Reddit in the 10 years I've been here that runs the risk of someone being able to figure out who I am based on the story I'm about to tell, but I'm nearly retired, so I think I'm probably alright.\\n\\nI want to star...</td>\n",
       "      <td>11149</td>\n",
       "    </tr>\n",
       "    <tr>\n",
       "      <th>787</th>\n",
       "      <td>Missing 411: Were American Farmers Abducted By UFOs?</td>\n",
       "      <td>David Paulides' first Missing 411 book is called *Eastern United States - Unexplained disappearances of North Americans that have never been solved* and it was released in 2011. Its main focus is American farmers who went missing under strange circumstances. \\n\\n**Why farmers?**\\n\\nAccording to David Paulides *\"farmers in North America represent a specific group of the missing person phenomeno...</td>\n",
       "      <td>1</td>\n",
       "      <td>Missing 411: Were American Farmers Abducted By UFOs? David Paulides' first Missing 411 book is called *Eastern United States - Unexplained disappearances of North Americans that have never been solved* and it was released in 2011. Its main focus is American farmers who went missing under strange circumstances. \\n\\n**Why farmers?**\\n\\nAccording to David Paulides *\"farmers in North America repre...</td>\n",
       "      <td>25869</td>\n",
       "    </tr>\n",
       "    <tr>\n",
       "      <th>866</th>\n",
       "      <td>Transcript of Chris Bledsoe's regression with Barbara Lamb. June 5th, 2018. San Diego.</td>\n",
       "      <td>**-This is a sacred text, a modern hymn to the Creator-**\\n\\n***B: Barbara***\\n\\n***C: Chris***\\n\\nB: Now, you’re getting ready to experience the whole of the experience when the lady came in 2012, what is it that you’re aware of? And Chris, as your sleeping there, is your wife sleeping in the bed there with you?\\n\\nC: no, no I’m alone\\n\\nB: do you sense your self being in bed alone?\\n\\nC: ye...</td>\n",
       "      <td>1</td>\n",
       "      <td>Transcript of Chris Bledsoe's regression with Barbara Lamb. June 5th, 2018. San Diego.  **-This is a sacred text, a modern hymn to the Creator-**\\n\\n***B: Barbara***\\n\\n***C: Chris***\\n\\nB: Now, you’re getting ready to experience the whole of the experience when the lady came in 2012, what is it that you’re aware of? And Chris, as your sleeping there, is your wife sleeping in the bed there wit...</td>\n",
       "      <td>36454</td>\n",
       "    </tr>\n",
       "    <tr>\n",
       "      <th>969</th>\n",
       "      <td>Are we ready? Can we change our mindset? Can we live without the systems we now know as staples?</td>\n",
       "      <td>As researchers, we spend much time and effort investigating the phenomenon of UFOs. Given the preponderance of evidence many of us have come to make one simple conclusion: There is definitely something happening in the skies over the entire planet.  \\nTwo possible deductions can be gleaned from such numerous observations. 1) The observed phenomenon is a technology so far advanced they must be ...</td>\n",
       "      <td>1</td>\n",
       "      <td>Are we ready? Can we change our mindset? Can we live without the systems we now know as staples? As researchers, we spend much time and effort investigating the phenomenon of UFOs. Given the preponderance of evidence many of us have come to make one simple conclusion: There is definitely something happening in the skies over the entire planet.  \\nTwo possible deductions can be gleaned from suc...</td>\n",
       "      <td>36430</td>\n",
       "    </tr>\n",
       "    <tr>\n",
       "      <th>970</th>\n",
       "      <td>Are we ready? Can we change our mindset? Can we live without the systems we now know as staples?</td>\n",
       "      <td>[https://www.academia.edu/5230816/Are\\_we\\_really\\_ready\\_for\\_Dosclosure](https://www.academia.edu/5230816/Are_we_really_ready_for_Dosclosure)\\n\\n As researchers, we spend much time and effort investigating the phenomenon of UFOs. Given the preponderance of evidence many of us have come to make one simple conclusion: There is definitely something happening in the skies over the entire planet....</td>\n",
       "      <td>1</td>\n",
       "      <td>Are we ready? Can we change our mindset? Can we live without the systems we now know as staples? [https://www.academia.edu/5230816/Are\\_we\\_really\\_ready\\_for\\_Dosclosure](https://www.academia.edu/5230816/Are_we_really_ready_for_Dosclosure)\\n\\n As researchers, we spend much time and effort investigating the phenomenon of UFOs. Given the preponderance of evidence many of us have come to make on...</td>\n",
       "      <td>34821</td>\n",
       "    </tr>\n",
       "    <tr>\n",
       "      <th>1007</th>\n",
       "      <td>On the unexpected consequences of official, public contact (and what it is to be human)</td>\n",
       "      <td>This is  a hugely long, quite rambly post, but I need to jot down a whole bunch of thoughts that have been coming together these last few eventful months. I once read a claim that when the Emperor of Japan first laid eyes on the steam ships of the American Navy in 1851, and then their more assertive appearance in 1854 , the experience of the technological and military gap was so humiliating to...</td>\n",
       "      <td>1</td>\n",
       "      <td>On the unexpected consequences of official, public contact (and what it is to be human) This is  a hugely long, quite rambly post, but I need to jot down a whole bunch of thoughts that have been coming together these last few eventful months. I once read a claim that when the Emperor of Japan first laid eyes on the steam ships of the American Navy in 1851, and then their more assertive appeara...</td>\n",
       "      <td>19547</td>\n",
       "    </tr>\n",
       "  </tbody>\n",
       "</table>\n",
       "</div>"
      ],
      "text/plain": [
       "                                                                                                 title  \\\n",
       "273                                                   Following Lue's Breadcrumbs To Some Deep Physics   \n",
       "423                                     I met Tom Delonge and Luis Elizondo and these are my thoughts.   \n",
       "787                                               Missing 411: Were American Farmers Abducted By UFOs?   \n",
       "866             Transcript of Chris Bledsoe's regression with Barbara Lamb. June 5th, 2018. San Diego.   \n",
       "969   Are we ready? Can we change our mindset? Can we live without the systems we now know as staples?   \n",
       "970   Are we ready? Can we change our mindset? Can we live without the systems we now know as staples?   \n",
       "1007           On the unexpected consequences of official, public contact (and what it is to be human)   \n",
       "\n",
       "                                                                                                                                                                                                                                                                                                                                                                                                             selftext  \\\n",
       "273   TLDR; The breadcrumbs dropped by the disclosure team might have a strong tie to the time component of the [time evolution operator](https://i.postimg.cc/Wpy96bzJ/imaginary-evolution.png) of quantum mechanical systems.\\n\\n\\nDisclosure: I am not a physicist.\\n\\n\\nLue has stated twice that he leaves breadcrumbs in every interview.\\n\\n21OCT2021 - Theories of Everything with Lue\\nhttps://youtu.be/q...   \n",
       "423   First, full disclosure. I am a US Army Counterintelligence Agent. This will be the first time I've posted something on Reddit in the 10 years I've been here that runs the risk of someone being able to figure out who I am based on the story I'm about to tell, but I'm nearly retired, so I think I'm probably alright.\\n\\nI want to start with a disclaimer. I know, having read a ton of books and wat...   \n",
       "787   David Paulides' first Missing 411 book is called *Eastern United States - Unexplained disappearances of North Americans that have never been solved* and it was released in 2011. Its main focus is American farmers who went missing under strange circumstances. \\n\\n**Why farmers?**\\n\\nAccording to David Paulides *\"farmers in North America represent a specific group of the missing person phenomeno...   \n",
       "866    **-This is a sacred text, a modern hymn to the Creator-**\\n\\n***B: Barbara***\\n\\n***C: Chris***\\n\\nB: Now, you’re getting ready to experience the whole of the experience when the lady came in 2012, what is it that you’re aware of? And Chris, as your sleeping there, is your wife sleeping in the bed there with you?\\n\\nC: no, no I’m alone\\n\\nB: do you sense your self being in bed alone?\\n\\nC: ye...   \n",
       "969   As researchers, we spend much time and effort investigating the phenomenon of UFOs. Given the preponderance of evidence many of us have come to make one simple conclusion: There is definitely something happening in the skies over the entire planet.  \\nTwo possible deductions can be gleaned from such numerous observations. 1) The observed phenomenon is a technology so far advanced they must be ...   \n",
       "970   [https://www.academia.edu/5230816/Are\\_we\\_really\\_ready\\_for\\_Dosclosure](https://www.academia.edu/5230816/Are_we_really_ready_for_Dosclosure)\\n\\n As researchers, we spend much time and effort investigating the phenomenon of UFOs. Given the preponderance of evidence many of us have come to make one simple conclusion: There is definitely something happening in the skies over the entire planet....   \n",
       "1007  This is  a hugely long, quite rambly post, but I need to jot down a whole bunch of thoughts that have been coming together these last few eventful months. I once read a claim that when the Emperor of Japan first laid eyes on the steam ships of the American Navy in 1851, and then their more assertive appearance in 1854 , the experience of the technological and military gap was so humiliating to...   \n",
       "\n",
       "      subreddit  \\\n",
       "273           1   \n",
       "423           1   \n",
       "787           1   \n",
       "866           1   \n",
       "969           1   \n",
       "970           1   \n",
       "1007          1   \n",
       "\n",
       "                                                                                                                                                                                                                                                                                                                                                                                                                 post  \\\n",
       "273   Following Lue's Breadcrumbs To Some Deep Physics TLDR; The breadcrumbs dropped by the disclosure team might have a strong tie to the time component of the [time evolution operator](https://i.postimg.cc/Wpy96bzJ/imaginary-evolution.png) of quantum mechanical systems.\\n\\n\\nDisclosure: I am not a physicist.\\n\\n\\nLue has stated twice that he leaves breadcrumbs in every interview.\\n\\n21OCT2021 - Th...   \n",
       "423   I met Tom Delonge and Luis Elizondo and these are my thoughts. First, full disclosure. I am a US Army Counterintelligence Agent. This will be the first time I've posted something on Reddit in the 10 years I've been here that runs the risk of someone being able to figure out who I am based on the story I'm about to tell, but I'm nearly retired, so I think I'm probably alright.\\n\\nI want to star...   \n",
       "787   Missing 411: Were American Farmers Abducted By UFOs? David Paulides' first Missing 411 book is called *Eastern United States - Unexplained disappearances of North Americans that have never been solved* and it was released in 2011. Its main focus is American farmers who went missing under strange circumstances. \\n\\n**Why farmers?**\\n\\nAccording to David Paulides *\"farmers in North America repre...   \n",
       "866   Transcript of Chris Bledsoe's regression with Barbara Lamb. June 5th, 2018. San Diego.  **-This is a sacred text, a modern hymn to the Creator-**\\n\\n***B: Barbara***\\n\\n***C: Chris***\\n\\nB: Now, you’re getting ready to experience the whole of the experience when the lady came in 2012, what is it that you’re aware of? And Chris, as your sleeping there, is your wife sleeping in the bed there wit...   \n",
       "969   Are we ready? Can we change our mindset? Can we live without the systems we now know as staples? As researchers, we spend much time and effort investigating the phenomenon of UFOs. Given the preponderance of evidence many of us have come to make one simple conclusion: There is definitely something happening in the skies over the entire planet.  \\nTwo possible deductions can be gleaned from suc...   \n",
       "970   Are we ready? Can we change our mindset? Can we live without the systems we now know as staples? [https://www.academia.edu/5230816/Are\\_we\\_really\\_ready\\_for\\_Dosclosure](https://www.academia.edu/5230816/Are_we_really_ready_for_Dosclosure)\\n\\n As researchers, we spend much time and effort investigating the phenomenon of UFOs. Given the preponderance of evidence many of us have come to make on...   \n",
       "1007  On the unexpected consequences of official, public contact (and what it is to be human) This is  a hugely long, quite rambly post, but I need to jot down a whole bunch of thoughts that have been coming together these last few eventful months. I once read a claim that when the Emperor of Japan first laid eyes on the steam ships of the American Navy in 1851, and then their more assertive appeara...   \n",
       "\n",
       "      post_count  \n",
       "273        19240  \n",
       "423        11149  \n",
       "787        25869  \n",
       "866        36454  \n",
       "969        36430  \n",
       "970        34821  \n",
       "1007       19547  "
      ]
     },
     "execution_count": 23,
     "metadata": {},
     "output_type": "execute_result"
    }
   ],
   "source": [
    "#filter posts with more than 10,000 word counts to explore whether they are spam or valid posts\n",
    "df[df[\"post_count\"]>10000]"
   ]
  },
  {
   "cell_type": "code",
   "execution_count": 24,
   "metadata": {},
   "outputs": [
    {
     "data": {
      "text/plain": [
       "'Are we ready? Can we change our mindset? Can we live without the systems we now know as staples? As researchers, we spend much time and effort investigating the phenomenon of UFOs. Given the preponderance of evidence many of us have come to make one simple conclusion: There is definitely something happening in the skies over the entire planet.  \\nTwo possible deductions can be gleaned from such numerous observations. 1) The observed phenomenon is a technology so far advanced they must be coming from a distant alien civilization which is able to use technology far advanced from what we currently have publicly available, and 2) The observed phenomenon are Earthbound technologies which have been suppressed for many years while the technology is developed in secret “black budget projects” for military purposes.  \\nThere are pundits in both these camps. No matter what the truth is, the general population is NOT getting the whole story. In reality the most probable situation is a composite of both these scenarios. The history of sightings goes back for centuries and hundreds of “whistleblowers” have given testimonies in the last fifty years attesting to the existence of such technology. After reading this information a knowledgeable UFO Investigator will understand how difficult it may be to conclude from an objects behavior which scenario it belongs to.  \\nI\\'ve always said that if \"they\" are coming here from a \"distant\" solar system, then *they\\'re probably not packing their lunch for the whole trip and stopping for \"gas\" or “a burger” on the way. This would mean they\\'re completely self-sufficient and probably very well resourced with recyclable material and advanced energy technologies.*  \\n**You should think about that previous paragraph very carefully. It probably is the most important realization you can ever come to**. The ramifications are astounding. \"If\" that is true, then it means that the possibility of limitless and extremely inexpensive energy is real. It also means that true and limitless abundance is imminent. It is our destiny.  \\nThe evidence uncovered from my research leads me to understand that the whole UFO phenomenon is kept secret primarily not because of the \"ET\" aspect of it, - although that does scare some people out of their mind, but mainly because of the ramifications which would inevitably cause the current economic and geopolitical structure to collapse. A collapse which is inevitable due to the consequences of the technology related to sustenance, energy and travel. As it turns out, this scares some other people completely out of THEIR mind. These are the people who currently control the world systems of culture, economy, and energy. These are the people we get our information from, and who make public and economic policy decisions “in our best interest”. These are the people who decide who has “the need to know”.  \\nWhat would happen to the current \"control structures\" which exist now if that type of technology were actually revealed and used to its full potential? What happens to an economy which is based on the consumption of fuels when the cost of such energy becomes zero? Imagine removing energy cost from every product. What happens when recycling becomes a zero cost endeavor and all consumption is only a onetime depletion? The whole “planned obsolescence” which keeps you buying consumables goes right out the window. What happens when travel becomes limitless with zero “cost”? Where do our boundaries go?  \\nWhat happens to culture? This leads one to imagine a society where anyone can have anything, anytime, and go anywhere: a world where \"waste\" doesn\\'t exist because energy concerns are irrelevant in the recycling process. A completely different existence where there is no need for any type of economy - because it\\'s imaginary anyway. A society where all necessities are a right, free to all and you\\'re only life goal is to explore, learn and contribute to the existence of the whole. Zero strife, zero stress, and zero conflict: A world completely different in every aspect in comparison to what exists today. The challenges would only be sociological acceptance and change, and not the perceived difficulties of limits on resources and illusionary struggle for necessities.  \\nWhat would happen to the people who kept this secret when it is disclosed this has existed for who knows how long and the population realizes what has been done to them and the planet for so long, only for their “rulers\\'” own selfish control based gains? What happens when the population of the planet realizes about the untold numbers of unnecessary deaths which occurred because of this situation?  \\nWhat will that transition period be like? This is to be seen, but that transition is unavoidable; this cannot be kept secret forever. These are the real reasons behind UFO secrecy. I believe that amnesty is the only way forward, but some people may not be so forgiving. These are the fears which perpetuate the UFO secrecy. Richard Dolan in recent interviews concerning his new book, AD, After Disclosure agrees with these points, but his assessment only considers them after contact happens. I will show you how we can make these changes first to allow contact to happen effortlessly.  \\nFirst we need to go into some history. It has been said that Eisenhower rebuked the \"Pleideans\" offer for world peace and abundance because it would \"destroy the economy\". I cite the rumors of the meeting at Edwards AFB, fueled by Astronaut Gordon Cooper\\'s many statements of actually being there and filming one such \"arrival\". “Gordon Cooper also stood by his belief that he saw a UFO land at Edwards Air Force Base in California in 1957. Although Cooper had been filming the base with a camera crew at the time, the film, which he handed over to a high-ranking officer from Washington, has never emerged. “\\\\[SOURCE: Space.com; “Gordon Cooper: No Mercury UFO” by Robert Scott Martin Staff Writer posted: 06:37 pm ET 10 September 1999\\\\] There are numerous other sources from Astronaut Cooper with these claims easily found if you care to search for them.  \\nThere is more evidence to that alleged meeting with President Eisenhower. Henry McElroy, Jr. a former State Representative from New Hampshire stated soon after his retirement, “The document I saw was an official brief to President Eisenhower. To the best of my memory this brief was pervaded with a sense of hope, and it informed President Eisenhower of the continued presence of extraterrestrial beings here in the United States of America. The brief seemed to indicate that a meeting between the President and some of these visitors could be arranged as appropriate if desired.  \\nThe tone of the brief indicated to me that there was no need for concern, since these visitors were in no way, causing any harm, or had any intentions, whatsoever, of causing any disruption then, or in the future.  \\nWhile I can’t verify the times or places or that any meeting or meetings occurred directly between Eisenhower and these visitors – - because of his optimism in his farewell address in 1961, I personally believe that Eisenhower did, indeed, meet with these extraterrestrial, off world astronauts.” You can see Representative McElroy making these statements here: \\\\[SOURCE: http:// [www.youtube.com/watch?v=mrK2YgfjnHo&amp;feature=player\\\\_embedded\\\\]](http://www.youtube.com/watch?v=mrK2YgfjnHo&amp;feature=player_embedded]), for the transcript go to: \\\\[ HYPERLINK \"http:// [www.ufoevolution.com/forums/showthread.php?t=5309](http://www.ufoevolution.com/forums/showthread.php?t=5309)\" [http://www.ufoevolution.com/forums/showthread.php?t=5309)\\\\]](http://www.ufoevolution.com/forums/showthread.php?t=5309)])\\n\\nDuring this meeting the rumors are that President Eisenhower was presented with the option of receiving all the technological advances available to the visitors, under the condition that we relinquish “our warring ways” and accept the mutual acceptance and equality which this would yield. His reported response was “That would completely ruin our economy”.  \\nThere are other witnesses who have come forward which verify these accounts, one of which is Gerald Light. “According to him, he was one of four people in the delegation accompanying President Eisenhower, the other three being: Franklin Allen (a former reporter with the Hearst Newspapers Group and 80 years old at the time), Dr Edwin Nourse (the first chairman of the Council of Economic Advisors to the President), and Cardinal James Francis MacIntyre (who was bishop and head of the Catholic Church in Los Angeles until 1970). Gerald Light confirmed the “alleged” meeting with extraterrestrials at Edwards Air force base in a letter sent to Meade Layne (the then director of Borderland Sciences Research Associates) on April 16, 1954. In the letter he said “The report is true - devastatingly true!” Light described the event by saying that during his two day stay at the base he saw “five separate and distinct types of aircraft being studied and handled by our Air Force officials - with the assistance and permission of the Etherians!” Light believed that President Eisenhower was planning to make “an official statement to the country” about one month after his letter was written.” But as we know, no such announcement was ever made. \\\\[SOURCE: HYPERLINK \"http:// [www.ufodigest.com/article/churchill-ufo-cover-supports-eisenhower%E2%80%99s-alleged-meeting-aliens](http://www.ufodigest.com/article/churchill-ufo-cover-supports-eisenhower%E2%80%99s-alleged-meeting-aliens)\" http:// [www.ufodigest.com/article/churchill-ufo-cover-supports-eisenhower%E2%80%99s-alleged-meeting-aliens](http://www.ufodigest.com/article/churchill-ufo-cover-supports-eisenhower%E2%80%99s-alleged-meeting-aliens) , by Ian Brockwell on Fri, 08/06/2010 - 15:04\\\\]  \\nAlso see: “Eisenhower’s 1954 Meeting With Extraterrestrials: The Fiftieth Anniversary of First Contact?” Research Study #8 Revised February 12, 2004, first published January 28, 2004, by Michael E. Salla, PhD \\\\[ HYPERLINK \"[http://www1.american.edu/](http://www1.american.edu/) salla/Articles/Exo-SP-8.htm\" [http://www1.american.edu/salla/Articles/Exo-SP-8.htm\\\\]](http://www1.american.edu/salla/Articles/Exo-SP-8.htm])  \\nI can’t help but think of the end scene in the movie “The Day the Earth Stood Still” (1951) in which the visiting alien states “It is no concern of ours how you run your own planet. But if you threaten to extend your violence, this Earth of yours will be reduced to a burned-out cinder. Your choice is simple: Join us and live in peace, or pursue your present course and face obliteration. We shall be waiting for your answer; the decision rests with you.”  \\nThe possibilities are on the extremes and quite obvious. We can either grow into a peaceful and self perpetuating society or continue on our current path to certain demise because of the diminishing resources we consume. This consumption will inevitably result in wars over those resources, leading to certain destruction of our planet.  \\nThere is only one wise choice. It\\'s my opinion that this has taken far too long to be actualized. The deep resistance to a severe societal and control change appears to be drastic and unacceptable to far too many. I believe this is why the whole UFO scenario is still a secret; not because of the existence of \"off-world\" intelligences. I think that\\'s a nearsighted and readily available excuse; an illusion perpetuated by the fear-based focus on emotional misunderstandings. This conclusion is revealed by the close examination of the \"abduction\" scenarios. Most Humans immediately resonate in fear after a contact scenario. Their immediate emotional response is understandable. They are confronted with paradigm shifting realizations, and situations which are out of their normal realm. But when the data is analyzed, most of the evidence point to the aliens’ intent as promoting evolution/enlightenment and a deep care for the planet and all the occupants of the Earth itself. There is an abundance of data provided by psychotherapists who have many years of regression therapy sessions which attribute to this conclusion. I believe aliens have this viewpoint because they understand the Entanglement Principle of Quantum Physics to its fullest reality; just as all the sages of antiquity have professed, - everything is connected.  \\nMeanwhile, advertisers have known for years that fear is an excellent motivator and closes down rational thought. One must logically conclude if aliens are here and wanted “resources” from us - as a certain well known physicists has recently claimed, in the centuries of reported encounters they certainly could have taken whatever they wanted. Their obviously superior technology could have easily destroyed us already. We’re still here. It’s plain to see they don’t need our resources and that’s not their plan. As I’ve said earlier, “they’re not packing their lunch for the trip”. They seem to have everything they need. Using fear, the people who refuse to accept this change perpetuate false realities for their own agendas while inhibiting the natural progress of human technological advancements, and by extension retarding the evolution of Human Consciousness.  \\nWe’re rapidly approaching an opportunity to prepare our society to be ready to have an equal and bidirectional relationship with our galactic neighbors. We should not be wasting that chance. We should be ready when that time comes. This isn’t about “Disclosure” just yet. We’re not ready for that. We’ve only just begun to understand what that would mean. We first need to stop being “The Planet of the Children” and grow up.  \\nNow I have to ask myself, “Am I delusional?” or is there any evidence which points to the existence of such advanced technologies already present on this planet now?  \\nIn 1969, a small group of people at Douglas Aircraft took the UFO phenomenon seriously enough to spend a reported $500 Million investigating the properties of the propulsion involved. The Document (A-830-BB01-JMB-2) drafted June 25, 1968 outlines the program in general. They began by proposing very simple experiments to determine any attraction or reaction between magnetic fields and electrostatic charges arranged in a circle, the purpose being to simulate the dynamics of elementary particles (specifically the electron) on a macrocosmic scale (Proposal for Electrostatic/Magnetic Experiments, December 20, 1967, pp. 7-8). According to the memorandum \"Currently Preferred Propulsion Concept\" (A-830-BB01-JMB-1) dated February 14, 1968 the author exhibits his confidence in the specific experimental approaches. Robert Wood discusses the program on pages 433-440 of HYPERLINK \"[http://www.disclosureproject.org/shop.htm](http://www.disclosureproject.org/shop.htm)\" \\\\\\\\l \"Disclosure%20Book\" Steven Greer\\'s book “Disclosure”. Among the things to be noted: page 435, Wood and Co. briefed the Condon Committee which was ongoing at the same time. They explained that it was possible to make a superconductive ring of current float in the Earth\\'s magnetic field with only 10 times the current capacity that they had available at that time. \\\\[Source: HYPERLINK \"[http://www.checktheevidence.com/cms/index.php](http://www.checktheevidence.com/cms/index.php)? option=content&amp;task=view&amp;id=38\" [http://www.checktheevidence.com/cms/index.php?option=content&amp;task=view&amp;id=38\\\\]](http://www.checktheevidence.com/cms/index.php?option=content&amp;task=view&amp;id=38]) and \\\\[“A little Physics...A little Friction”, by Robert M. Wood, IUR July/August 1993\\\\]  \\nHow many of you have seen that little globe of Earth that floats in the magnetic field appearing to be magic? This is the same principle. Search Amazon.com for “Floating Globe” if you need to see one. This is made more interesting with the revelation of a memo from Stanton Friedman to the Douglas Aircraft Company in which the subject was “‘State of the Art’ Searches on (1) Round Vehicles and (2) Magneto-Aerodynamic Devices” addressed to D.L. Royer of Douglas. If we remember what Stanton Friedman’s stated research was in his classified years before he became the UFO investigator we all love, he publicly states that he was researching the use of nuclear energy with the goal of making it available for use with regards to propulsion of airplanes. The memo goes on to ask for particular details on “Round or lenticular shaped aircraft such as that described in U.S. Patent # ‘High Velocity High Altitude V.T.O.L. Aircraft’, dated Sept 10, 1963 by N.C. Price”, and “Electrical and/or magnetic devices for propulsion or control of aircraft”. The Memo goes on the cite: Examples are U.S. Patents # 3,162,398 ‘Magnetodyhrodynamic Control Systems’ M.U. Clauser et al, December 22, 1964 and # 2,997,013 “Propulsion System” W.A. Rice, August 22, 1961”.\\\\[Source: HYPERLINK \"[http://www.checktheevidence.com/DouglasDocs/Douglas%20-](http://www.checktheevidence.com/DouglasDocs/Douglas%20-) %201969-06-18%20-%20Memo%20from%20Stanton%20Friedman%20requesting%20info%20on%20Vehicles%20etc.pdf\" http:// [www.checktheevidence.com/DouglasDocs/Douglas%20-%201969-06-18%20-%20Memo%20from%20Stanton%20Friedman](http://www.checktheevidence.com/DouglasDocs/Douglas%20-%201969-06-18%20-%20Memo%20from%20Stanton%20Friedman)%20requesting%20info%20on%20Vehicles%20etc.pdf\\\\] What the reply to this request was, only Mr. Friedman knows.  \\nHere I will supply a bit of information that most people don’t know about the U.S. Patent Office. According to their website and verified by this author in phone conversations with Patent Inspectors they state: “A patent cannot be obtained on a mere idea or suggestion. Patent applications are examined for both technical and legal merit.” Otherwise phrased; lacking solid technical proof, patents are simply not granted. This means a device cannot be imaginary, and must do exactly what it says it does to be issued a U.S. Patent. Therefore anything that is issued a patent works just like the inventor claims, - and MUST do so - or no patent can be issued, by law. \\\\[[http://uspto.gov/main/faq/index.html](http://uspto.gov/main/faq/index.html) \\\\- What is a patent?\\\\]  \\nSo, in 1969 the Douglas Aircraft Company came to the conclusion in its research that it would only take 10 times the amount of energy available in 1969 to produce the effects seen in UFO propulsion. We see that there were already patents which show the existence of inventions with the aerodynamic characteristics of such craft. We also have a nuclear engineer whose research was incorporating nuclear energy for aircraft propulsion inquiring into the results of their research with specific requests relating to “lenticular” vehicles. Can we conclude that the use of nuclear energy would increase the current turbojet capabilities by 10 times? I think we could make that leap, especially if the electromagnetic principles described in those documents, and others referenced below were applied.  \\nAre there other devices which could change the way we think of our current state of technology? Most certainly the answer is yes!  \\nThere exists the U.S. Patent # 3,626,606 by H. W. Wallace, “Method and Apparatus for Generating a Dynamic Force Field”, and U.S. Patent # 3,626,605 by H. W. Wallace, “ HYPERLINK \"[http://www.google.com/patents/about?id=\\\\_9sqAAAAEBAJ&amp;dq=](http://www.google.com/patents/about?id=_9sqAAAAEBAJ&amp;dq=)%E2%80%9CMethod+And+Apparatus+For+Generating+A+Dynamic+Force+Field\" Method and Apparatus for Generating a Secondary Gravitational Force Field”. Both these patents expand upon T. Townsend Brown’s work which is itself an extension of Nikola Tesla’s theories on electrostatic propulsion. Both of these inventors’ works have been confiscated by the U.S. Government and classified “Top Secret”.  \\nIn researching these patents I also found: Patent # 6,960,975: “Space Vehicle Propelled by the Pressure of Inflationary Vacuum State”, issued Nov 1, 2005 to Boris Volfson, and Patent # 5,197,279, “Electromagnetic Energy Propulsion Engine”, issued March 30, 1993 to James R. Taylor.  \\nA simple internet search would yield much more information, but only these few should suffice to prove these exist and purposefully are kept quiet and not used. Remember, if it has a patent, it is real. You can check for yourself. Go to: [www.google.com/patents](http://www.google.com/patents) and see for yourself. Type in those numbers or titles and see what comes up!  \\nThere is also an excellent site with flash animations which surmise this point very well, called - astoundingly: “How UFOs Work”. I recommend watching those short movies. \\\\[Source: HYPERLINK \"[http://www.ufohowto.com/](http://www.ufohowto.com/)\" [http://www.ufohowto.com/\\\\]](http://www.ufohowto.com/]) Click on the presentation link. You will learn all about the different types of technologies that are in the patent files concerning what can be classified as “UFOs”.  \\nIn addition to these and other patents, the documentation on this type of research is huge. I cite a research paper by NASA entitled “Field Resonance Propulsion Concept JSC-16073 (NASA-TM-80961)” dated August 1979. The forward of that document reads: “The speculative \"propulsion\" concept described in this paper was presented at a special session of the 15th Joint AIAA/SAE/ASME Propulsion Conference (June 18-20, 1979), \"Propulsion Concepts for Galactic Spacecraft\". The concept was developed as the result of private, unofficial research. NASA is not involved in UFO research. However, the research which may be stimulated by this paper could result in the verification of essential elements of this concept and in feasibility studies concerning the development of a new generation of NASA spacecraft. – Alan C. Holt.”  \\nThis NASA supported research abstract goes on to say: “A new propulsion concept has been developed based on a proposed resonance between coherent, pulsed electromagnetic wave forms and gravitational wave forms (or space-time metrics). Using this concept a spacecraft \"propulsion\" system potentially capable of galactic and inter-galactic travel without prohibitive \"travel times\" has been designed. The \"propulsion\" system utilizes recent research associated with magnetic field line merging, hydromagnetic wave effects, free-electron lasers, laser generation of megagauss fields, and special structural and containment metals. Research required to determine potential, field resonance characteristics and to evaluate various aspects of the spacecraft \"propulsion\" design is described.”  \\nIt then goes on to describe some of the evidence and data from which it draws its conclusions: “If some UFO phenomena are caused by extraterrestrial visitors in very advanced spacecraft, then the frequency of visits and the larger number of different types of visitors (many different humanoids have been described) imply an ability to cross large stretches of galactic and inter-galactic space in relatively short time frames. If the speed of light is a true limit of velocity in space-time, then the potential extraterrestrial visitors must utilize a form of transportation which transcends space and time to keep the trip times short. UFOs are often observed to disappear instantaneously. In a subset of these cases, the UFO later reappears at a nearby location implying a disappearance from and a reappearance into space-time. The high speed, right angle turns, abrupt stops or accelerations of UFOs, and the absence of sonic booms despite calculated speeds of 22,000 mph or more suggest that UFOs may generate an artificial gravitational field or otherwise use properties of space-time which we are not familiar with. UFO propulsion systems appear to involve electromagnetic or hydromagnetic processes as evidenced by radiative effects on the environment such as burns, dehydration, stopping of automobile engines, TV and radio disruptions, melting or alteration of ground and road surfaces, power disruptions, and static electricity effects. This data suggests that the unknown relationship between electromagnetic and gravitational fields may be used in UFO propulsion systems.” \\\\[SOURCE: HYPERLINK \"[http://ntrs.nasa.gov/archive/nasa/casi.ntrs.nasa.gov/19800010907\\\\_1980010907.pdf](http://ntrs.nasa.gov/archive/nasa/casi.ntrs.nasa.gov/19800010907_1980010907.pdf)\" http:// ntrs.nasa.gov/archive/nasa/casi.ntrs.nasa.gov/19800010907\\\\_1980010907.pdf\\\\]  \\nAnother source of interest comes from the laboratories of Lockheed Martin titled “An Electromagnetic Basis for Inertia and Gravitation: What Are the Implications for 21st Century Physics and Technology? By Bernhard Haisch, Solar &amp; Astrophysics Laboratory Lockheed Martin, in cooperation with Alfonso Rueda, Dept. Elec. Eng. and Dept. Phys. &amp; Astron. California State University Long Beach, CA. This report states: “If an object made of negative matter could be obtained and coupled by elastic, gravitational, or electromagnetic forces to an object containing an equal amount of positive matter, the interactions between the two objects would result in an unlimited amount of unidirectional acceleration of the combination without the requirement for an energy source or reaction mass. In this paper, it is shown in exhaustive detail that, despite their unbelievable propulsive capabilities, negative matter propulsion systems do not violate the Newtonian laws of conservation of linear momentum and energy. Thus, logical objections to the existence of negative matter must be found elsewhere than in Newtonian mechanics. (Forward 1990) We propose that we have indeed found a new insight into the nature of mass, and while this immediately rules out the possibility of negative matter discussed above and its consequent hypothetical propulsion capabilities, it opens an equally revolutionary opportunity: the chance that inertia and gravitation, as electromagnetically-based phenomena, may be subject to modification.” \\\\[SOURCE: HYPERLINK \"[http://www.calphysics.org/articles/zpf\\\\_staif98.pdf](http://www.calphysics.org/articles/zpf_staif98.pdf)\" [http://www.calphysics.org/articles/zpf\\\\_staif98.pdf\\\\]](http://www.calphysics.org/articles/zpf_staif98.pdf])  \\nInertia and gravitation may be subject to modification. Think about that! This would mean that those 90 degree turns witnessed by people all over the world can be understood and emulated using these concepts without the standard G-force effects which seems otherwise unexplainable!  \\nA third research paper is titled: Engineering the Zero-Point Field and Polarizable Vacuum for Interstellar Flight, by H .E. Puthoff, S.R. Little, and M. Ibison, Institute for Advanced Studies at Austin, Austin Texas. The initial paragraph reads: “A theme that has come to the fore in advanced planning for long-range space exploration is the concept of “propellantless propulsion” or “field propulsion”. One version of this concept involves the projected possibility that empty space itself (the quantum vacuum, or space- time metric) might be manipulated so as to provide energy/thrust for future space vehicles \\\\[1\\\\]. Although far reaching, such a proposal is solidly grounded in modern theory that describes the vacuum as a polarizable medium that sustains energetic quantum fluctuations. Thus the possibility that matter/vacuum interactions might be engineered for space-flight applications is not a priori ruled out, although certain constraints need to be acknowledged. The structure and implications of such a far-reaching hypothesis are considered herein.” \\\\[Source; HYPERLINK \"[http://www.gravitycontrol.org/pdf/jbisZPE.pdf](http://www.gravitycontrol.org/pdf/jbisZPE.pdf)\" [http://www.gravitycontrol.org/pdf/](http://www.gravitycontrol.org/pdf/)jbisZPE.pdf\\\\]  \\nThese papers are right from leading research organizations sanctioned by our very own government. They are intense with physics equations, but in essence they say that almost limitless speed is possible by electromagnetically cancelling out mass which provides an environment for zero inertia. With zero inertia there is no G-force, and without mass unlimited acceleration is feasible. Is this not exactly what is witnessed by the behavior of the UFOs in our skies; Instantaneous accelerations and immediate directional change?  \\nI believe that covers the propulsion aspect quite convincingly, at least proving that there are theories and experiments which would provide the capabilities which are observed by UFO’s. But does there exist the energy sources to accomplish this?  \\nAgain we can go to the U.S. Patent Office for those answers, but first I’d like to acknowledge the work of Dr. Steven Greer and his efforts to bring the energy situation to a public light. In his groundbreaking document entitled: “Summary of Breakthrough Energy Technologies; Prepared for: The President of the United States and Members of the US Congress” He outlines the current state of technology, the reasons and methods for suppression, and the most advantageous methods for implementing these right now.  \\nThe introduction states: “This summary document was prepared for the purpose of providing general background information about energy-producing technologies that are outside the usual mainstream consideration or awareness. This document is based on nearly 17 years of research by Dr. Greer, Dr. Loder and other members of The Orion Project, who have been studying energy generation and propulsion technologies. We have identified a number of new energy technologies that within 6 months to several years, given proper funding, may be ready for marketing.”  \\nDr. Greer has presented this repeatedly to government authorities but to this day there has been neither public acknowledgement nor action, which I believe is primarily because of the economic and societal concerns stated toward the beginning of this article. The reasons and methods for the suppression as he’s discovered are included in section 1.5 of that document and are numerous. They are documented and witnessed by people directly interviewed by Dr. Greer. The conclusion of that section states “Considering the multiplicity of suppression techniques described above, a lone inventor or conventional R and D company can in no way overcome such obstacles. Therefore, a strategic plan and capability commensurate with these barriers must be devised and executed in order for these new technologies to succeed.” \\\\[Source: HYPERLINK \"[http://www.theorionproject.org/Energy.pdf](http://www.theorionproject.org/Energy.pdf)\" [http://www.theorionproject.org/Energy.pdf\\\\]](http://www.theorionproject.org/Energy.pdf]) Dr. Greer’s paper does an excellent job of demonstrating such a strategic plan to accomplish that goal.  \\nThere are a number of U.S. Patents which describe what has become to be known as “overunity devices”. These devices create more energy as a product than they require for operation. The argument against that comes from people who cite the “Law of Conservation of Energy” which states that the amount of energy created will always be equal to or less than that which is input”. The caveat is that law applies only to a “closed system” and these devices work on “open system” theories. These devices receive most of their energy from the active environment, which current physics hasn’t yet incorporated into their calculations. Think of it like this; current physics counts the gas tank of your car along with the engine as a closed system. The only source of energy is what is held by that gas tank. In an open system the tank would be constantly filled from an outside source as it uses its reserves, but current physics can’t count that because it doesn’t understand how it’s being refueled. In an open system it would appear to conventional physics as if energy was created from nothingness because they couldn’t detect the filling mechanism. In these cases the filling mechanism is the electromagnetic fabric of the space/time reality which supports matter as we understand it. It’s where atoms get their energy from. Another simple example is a waterwheel. The river is the source of the water. That water is replenished from rainfall. That rainfall is an example of an open system, and can’t be adequately calculated.\\n\\nA few of the Patents I’ve found which support this are:  \\n5,436,518. A motor which outputs three times more power than is required to operate it.  \\n4,394,230. Split water into hydrogen and oxygen gasses using less power than is obtained by burning the gasses afterwards. 6,362,718. This device has no moving parts, powers itself and provides power to run other devices.  \\n5,568,005. This device has no moving parts, and provides power to run other devices.  \\n1,540,998. This shows how serious amounts of power can be taken from an ordinary aerial.  \\nFor more information on the latest energy developments I suggest these websites:  \\nHYPERLINK \"[http://www.theorionproject.org/en/index.html](http://www.theorionproject.org/en/index.html)\" [http://www.theorionproject.org/en/index.html](http://www.theorionproject.org/en/index.html) HYPERLINK \"[http://www.cheniere.org/toc.html](http://www.cheniere.org/toc.html)\" [http://www.cheniere.org/toc.html](http://www.cheniere.org/toc.html)  \\nHYPERLINK \"[http://www.rexresearch.com/1index.htm#freen](http://www.rexresearch.com/1index.htm#freen)\" [http://www.rexresearch.com/1index.htm#freen](http://www.rexresearch.com/1index.htm#freen) HYPERLINK \"[http://pesn.com/](http://pesn.com/)\" [http://pesn.com/](http://pesn.com/)  \\nHYPERLINK \"[http://merlib.org/book/export/html/4213](http://merlib.org/book/export/html/4213)\" [http://merlib.org/book/export/html/4213](http://merlib.org/book/export/html/4213)  \\nKnowing what I do now, it would be irresponsible to conclude based upon the observed behavior of anomalous objects that they must be from another world. They may or may not be! As a UFO investigator that would be irresponsible until I actually interview the occupants of such craft.  \\nIn conclusion, based on my research I believe the world could, - and should - be completely different than the situation we face today. If the advent of limitless energy were a reality there would be no necessity for strife or the unnecessary condition of being “poor”. With the cost of energy removed from every aspect of our society, and transportation becoming a limitless availability the world could change very rapidly into the “Star Trek” generation we all have visions of the future becoming. The only necessity would be one where the individual makes the most of him or herself, ideally for the betterment of mankind and contributing to the experience of the whole. The only “currency” that would ever be necessary would be the creativity one brings with them to the overall experience of humanity.  \\nThere will be a very painful transition period which I believe we as a society can endure. The few people who are benefiting most from the current situation have the most to lose, while the vast majority of humans on this planet will have unimaginable gains as the result. We are being offered a world where true equality actually exists.  \\nIf we can handle this change, then I think we truly will be ready to seriously think about open contact with our galactic visitors. From the majority of the reports, this is exactly what those visitors are waiting for. We should be well prepared to stand on equal footing as peers when the time to greet our neighbors and join the galactic community arrives. It will take a global “team effort”. As it turns out “we are who we’ve been waiting for”. I personally am tired of waiting. How about you?  \\nI wish to thank all the people referenced for their work in developing this article. I sincerely recommend supporting them by visiting their websites and contributing where you can. It will only help the transition happen more quickly. Also please support “The Disclosure Project” and any other disclosure efforts worldwide. If more people come forward who are involved with these “special access projects”, the quicker this can be widely known and implemented. There must be thousands of people who are sworn to secrecy who can help enlighten the public. If you are one of these people, please consider what you can do for posterity.  \\nPortions of copyrighted materials are used with great thanks and in accordance with the “fair use” doctrine for educational purposes by a nonprofit organization. Spread the love.'"
      ]
     },
     "execution_count": 24,
     "metadata": {},
     "output_type": "execute_result"
    }
   ],
   "source": [
    "df.iloc[969][\"post\"]"
   ]
  },
  {
   "cell_type": "code",
   "execution_count": 25,
   "metadata": {},
   "outputs": [
    {
     "data": {
      "text/plain": [
       "'Are we ready? Can we change our mindset? Can we live without the systems we now know as staples? [https://www.academia.edu/5230816/Are\\\\_we\\\\_really\\\\_ready\\\\_for\\\\_Dosclosure](https://www.academia.edu/5230816/Are_we_really_ready_for_Dosclosure)\\n\\n As researchers, we spend much time and effort investigating the phenomenon of UFOs. Given the preponderance of evidence many of us have come to make one simple conclusion: There is definitely something happening in the skies over the entire planet.  \\nTwo possible deductions can be gleaned from such numerous observations. 1) The observed phenomenon is a technology so far advanced they must be coming from a distant alien civilization which is able to use technology far advanced from what we currently have publicly available, and 2) The observed phenomenon are Earthbound technologies which have been suppressed for many years while the technology is developed in secret “black budget projects” for military purposes.  \\nThere are pundits in both these camps. No matter what the truth is, the general population is NOT getting the whole story. In reality the most probable situation is a composite of both these scenarios. The history of sightings goes back for centuries and hundreds of “whistleblowers” have given testimonies in the last fifty years attesting to the existence of such technology. After reading this information a knowledgeable UFO Investigator will understand how difficult it may be to conclude from an objects behavior which scenario it belongs to.  \\nI\\'ve always said that if \"they\" are coming here from a \"distant\" solar system, then *they\\'re probably not packing their lunch for the whole trip and stopping for \"gas\" or “a burger” on the way. This would mean they\\'re completely self-sufficient and probably very well resourced with recyclable material and advanced energy technologies.*  \\n**You should think about that previous paragraph very carefully. It probably is the most important realization you can ever come to**. The ramifications are astounding. \"If\" that is true, then it means that the possibility of limitless and extremely inexpensive energy is real. It also means that true and limitless abundance is imminent. It is our destiny.  \\nThe evidence uncovered from my research leads me to understand that the whole UFO phenomenon is kept secret primarily not because of the \"ET\" aspect of it, - although that does scare some people out of their mind, but mainly because of the ramifications which would inevitably cause the current economic and geopolitical structure to collapse. A collapse which is inevitable due to the consequences of the technology related to sustenance, energy and travel. As it turns out, this scares some other people completely out of THEIR mind. These are the people who currently control the world systems of culture, economy, and energy. These are the people we get our information from, and who make public and economic policy decisions “in our best interest”. These are the people who decide who has “the need to know”.  \\nWhat would happen to the current \"control structures\" which exist now if that type of technology were actually revealed and used to its full potential? What happens to an economy which is based on the consumption of fuels when the cost of such energy becomes zero? Imagine removing energy cost from every product. What happens when recycling becomes a zero cost endeavor and all consumption is only a onetime depletion? The whole “planned obsolescence” which keeps you buying consumables goes right out the window. What happens when travel becomes limitless with zero “cost”? Where do our boundaries go?  \\nWhat happens to culture? This leads one to imagine a society where anyone can have anything, anytime, and go anywhere: a world where \"waste\" doesn\\'t exist because energy concerns are irrelevant in the recycling process. A completely different existence where there is no need for any type of economy - because it\\'s imaginary anyway. A society where all necessities are a right, free to all and you\\'re only life goal is to explore, learn and contribute to the existence of the whole. Zero strife, zero stress, and zero conflict: A world completely different in every aspect in comparison to what exists today. The challenges would only be sociological acceptance and change, and not the perceived difficulties of limits on resources and illusionary struggle for necessities.  \\nWhat would happen to the people who kept this secret when it is disclosed this has existed for who knows how long and the population realizes what has been done to them and the planet for so long, only for their “rulers\\'” own selfish control based gains? What happens when the population of the planet realizes about the untold numbers of unnecessary deaths which occurred because of this situation?  \\nWhat will that transition period be like? This is to be seen, but that transition is unavoidable; this cannot be kept secret forever. These are the real reasons behind UFO secrecy. I believe that amnesty is the only way forward, but some people may not be so forgiving. These are the fears which perpetuate the UFO secrecy. Richard Dolan in recent interviews concerning his new book, AD, After Disclosure agrees with these points, but his assessment only considers them after contact happens. I will show you how we can make these changes first to allow contact to happen effortlessly.  \\nFirst we need to go into some history. It has been said that Eisenhower rebuked the \"Pleideans\" offer for world peace and abundance because it would \"destroy the economy\". I cite the rumors of the meeting at Edwards AFB, fueled by Astronaut Gordon Cooper\\'s many statements of actually being there and filming one such \"arrival\". “Gordon Cooper also stood by his belief that he saw a UFO land at Edwards Air Force Base in California in 1957. Although Cooper had been filming the base with a camera crew at the time, the film, which he handed over to a high-ranking officer from Washington, has never emerged. “\\\\[SOURCE: Space.com; “Gordon Cooper: No Mercury UFO” by Robert Scott Martin Staff Writer posted: 06:37 pm ET 10 September 1999\\\\] There are numerous other sources from Astronaut Cooper with these claims easily found if you care to search for them.  \\nThere is more evidence to that alleged meeting with President Eisenhower. Henry McElroy, Jr. a former State Representative from New Hampshire stated soon after his retirement, “The document I saw was an official brief to President Eisenhower. To the best of my memory this brief was pervaded with a sense of hope, and it informed President Eisenhower of the continued presence of extraterrestrial beings here in the United States of America. The brief seemed to indicate that a meeting between the President and some of these visitors could be arranged as appropriate if desired.  \\nThe tone of the brief indicated to me that there was no need for concern, since these visitors were in no way, causing any harm, or had any intentions, whatsoever, of causing any disruption then, or in the future.  \\nWhile I can’t verify the times or places or that any meeting or meetings occurred directly between Eisenhower and these visitors – - because of his optimism in his farewell address in 1961, I personally believe that Eisenhower did, indeed, meet with these extraterrestrial, off world astronauts.” You can see Representative McElroy making these statements here: \\\\[SOURCE: http:// www.youtube.com/watch?v=mrK2YgfjnHo&amp;feature=player\\\\_embedded\\\\], for the transcript go to: \\\\[ HYPERLINK \"http:// www.ufoevolution.com/forums/showthread.php?t=5309\" http://www.ufoevolution.com/forums/showthread.php?t=5309)\\\\]  \\n    \\n During this meeting the rumors are that President Eisenhower was presented with the option of receiving all the technological advances available to the visitors, under the condition that we relinquish “our warring ways” and accept the mutual acceptance and equality which this would yield. His reported response was “That would completely ruin our economy”.  \\nThere are other witnesses who have come forward which verify these accounts, one of which is Gerald Light. “According to him, he was one of four people in the delegation accompanying President Eisenhower, the other three being: Franklin Allen (a former reporter with the Hearst Newspapers Group and 80 years old at the time), Dr Edwin Nourse (the first chairman of the Council of Economic Advisors to the President), and Cardinal James Francis MacIntyre (who was bishop and head of the Catholic Church in Los Angeles until 1970). Gerald Light confirmed the “alleged” meeting with extraterrestrials at Edwards Air force base in a letter sent to Meade Layne (the then director of Borderland Sciences Research Associates) on April 16, 1954. In the letter he said “The report is true - devastatingly true!” Light described the event by saying that during his two day stay at the base he saw “five separate and distinct types of aircraft being studied and handled by our Air Force officials - with the assistance and permission of the Etherians!” Light believed that President Eisenhower was planning to make “an official statement to the country” about one month after his letter was written.” But as we know, no such announcement was ever made. \\\\[SOURCE: HYPERLINK \"http:// www.ufodigest.com/article/churchill-ufo-cover-supports-eisenhower%E2%80%99s-alleged-meeting-aliens\" http:// www.ufodigest.com/article/churchill-ufo-cover-supports-eisenhower%E2%80%99s-alleged-meeting-aliens , by Ian Brockwell on Fri, 08/06/2010 - 15:04\\\\]  \\nAlso see: “Eisenhower’s 1954 Meeting With Extraterrestrials: The Fiftieth Anniversary of First Contact?” Research Study #8 Revised February 12, 2004, first published January 28, 2004, by Michael E. Salla, PhD \\\\[ HYPERLINK \"http://www1.american.edu/ salla/Articles/Exo-SP-8.htm\" http://www1.american.edu/salla/Articles/Exo-SP-8.htm\\\\]  \\nI can’t help but think of the end scene in the movie “The Day the Earth Stood Still” (1951) in which the visiting alien states “It is no concern of ours how you run your own planet. But if you threaten to extend your violence, this Earth of yours will be reduced to a burned-out cinder. Your choice is simple: Join us and live in peace, or pursue your present course and face obliteration. We shall be waiting for your answer; the decision rests with you.”  \\nThe possibilities are on the extremes and quite obvious. We can either grow into a peaceful and self perpetuating society or continue on our current path to certain demise because of the diminishing resources we consume. This consumption will inevitably result in wars over those resources, leading to certain destruction of our planet.  \\nThere is only one wise choice. It\\'s my opinion that this has taken far too long to be actualized. The deep resistance to a severe societal and control change appears to be drastic and unacceptable to far too many. I believe this is why the whole UFO scenario is still a secret; not because of the existence of \"off-world\" intelligences. I think that\\'s a nearsighted and readily available excuse; an illusion perpetuated by the fear-based focus on emotional misunderstandings. This conclusion is revealed by the close examination of the \"abduction\" scenarios. Most Humans immediately resonate in fear after a contact scenario. Their immediate emotional response is understandable. They are confronted with paradigm shifting realizations, and situations which are out of their normal realm. But when the data is analyzed, most of the evidence point to the aliens’ intent as promoting evolution/enlightenment and a  \\n deep care for the planet and all the occupants of the Earth itself. There is an abundance of data provided by psychotherapists who have many years of regression therapy sessions which attribute to this conclusion. I believe aliens have this viewpoint because they understand the Entanglement Principle of Quantum Physics to its fullest reality; just as all the sages of antiquity have professed, - everything is connected.  \\nMeanwhile, advertisers have known for years that fear is an excellent motivator and closes down rational thought. One must logically conclude if aliens are here and wanted “resources” from us - as a certain well known physicists has recently claimed, in the centuries of reported encounters they certainly could have taken whatever they wanted. Their obviously superior technology could have easily destroyed us already. We’re still here. It’s plain to see they don’t need our resources and that’s not their plan. As I’ve said earlier, “they’re not packing their lunch for the trip”. They seem to have everything they need. Using fear, the people who refuse to accept this change perpetuate false realities for their own agendas while inhibiting the natural progress of human technological advancements, and by extension retarding the evolution of Human Consciousness.  \\nWe’re rapidly approaching an opportunity to prepare our society to be ready to have an equal and bidirectional relationship with our galactic neighbors. We should not be wasting that chance. We should be ready when that time comes. This isn’t about “Disclosure” just yet. We’re not ready for that. We’ve only just begun to understand what that would mean. We first need to stop being “The Planet of the Children” and grow up.  \\nNow I have to ask myself, “Am I delusional?” or is there any evidence which points to the existence of such advanced technologies already present on this planet now?  \\nIn 1969, a small group of people at Douglas Aircraft took the UFO phenomenon seriously enough to spend a reported $500 Million investigating the properties of the propulsion involved. The Document (A-830-BB01-JMB-2) drafted June 25, 1968 outlines the program in general. They began by proposing very simple experiments to determine any attraction or reaction between magnetic fields and electrostatic charges arranged in a circle, the purpose being to simulate the dynamics of elementary particles (specifically the electron) on a macrocosmic scale (Proposal for Electrostatic/Magnetic Experiments, December 20, 1967, pp. 7-8). According to the memorandum \"Currently Preferred Propulsion Concept\" (A-830-BB01-JMB-1) dated February 14, 1968 the author exhibits his confidence in the specific experimental approaches. Robert Wood discusses the program on pages 433-440 of HYPERLINK \"http://www.disclosureproject.org/shop.htm\" \\\\\\\\l \"Disclosure%20Book\" Steven Greer\\'s book “Disclosure”. Among the things to be noted: page 435, Wood and Co. briefed the Condon Committee which was ongoing at the same time. They explained that it was possible to make a superconductive ring of current float in the Earth\\'s magnetic field with only 10 times the current capacity that they had available at that time. \\\\[Source: HYPERLINK \"http://www.checktheevidence.com/cms/index.php? option=content&amp;task=view&amp;id=38\" http://www.checktheevidence.com/cms/index.php?option=content&amp;task=view&amp;id=38\\\\] and \\\\[“A little Physics...A little Friction”, by Robert M. Wood, IUR July/August 1993\\\\]  \\nHow many of you have seen that little globe of Earth that floats in the magnetic field appearing to be magic? This is the same principle. Search Amazon.com for “Floating Globe” if you need to see one.  \\n  \\n This is made more interesting with the revelation of a memo from Stanton Friedman to the Douglas Aircraft Company in which the subject was “‘State of the Art’ Searches on (1) Round Vehicles and (2) Magneto-Aerodynamic Devices” addressed to D.L. Royer of Douglas. If we remember what Stanton Friedman’s stated research was in his classified years before he became the UFO investigator we all love, he publicly states that he was researching the use of nuclear energy with the goal of making it available for use with regards to propulsion of airplanes. The memo goes on to ask for particular details on “Round or lenticular shaped aircraft such as that described in U.S. Patent # ‘High Velocity High Altitude V.T.O.L. Aircraft’, dated Sept 10, 1963 by N.C. Price”, and “Electrical and/or magnetic devices for propulsion or control of aircraft”. The Memo goes on the cite: Examples are U.S. Patents # 3,162,398 ‘Magnetodyhrodynamic Control Systems’ M.U. Clauser et al, December 22, 1964 and # 2,997,013 “Propulsion System” W.A. Rice, August 22, 1961”.\\\\[Source: HYPERLINK \"http://www.checktheevidence.com/DouglasDocs/Douglas%20- %201969-06-18%20-%20Memo%20from%20Stanton%20Friedman%20requesting%20info%20on%20Vehicles%20etc.pdf\" http:// www.checktheevidence.com/DouglasDocs/Douglas%20-%201969-06-18%20-%20Memo%20from%20Stanton%20Friedman %20requesting%20info%20on%20Vehicles%20etc.pdf\\\\] What the reply to this request was, only Mr. Friedman knows.  \\nHere I will supply a bit of information that most people don’t know about the U.S. Patent Office. According to their website and verified by this author in phone conversations with Patent Inspectors they state: “A patent cannot be obtained on a mere idea or suggestion. Patent applications are examined for both technical and legal merit.” Otherwise phrased; lacking solid technical proof, patents are simply not granted. This means a device cannot be imaginary, and must do exactly what it says it does to be issued a U.S. Patent. Therefore anything that is issued a patent works just like the inventor claims, - and MUST do so - or no patent can be issued, by law. \\\\[http://uspto.gov/main/faq/index.html - What is a patent?\\\\]  \\nSo, in 1969 the Douglas Aircraft Company came to the conclusion in its research that it would only take 10 times the amount of energy available in 1969 to produce the effects seen in UFO propulsion. We see that there were already patents which show the existence of inventions with the aerodynamic characteristics of such craft. We also have a nuclear engineer whose research was incorporating nuclear energy for aircraft propulsion inquiring into the results of their research with specific requests relating to “lenticular” vehicles. Can we conclude that the use of nuclear energy would increase the current turbojet capabilities by 10 times? I think we could make that leap, especially if the electromagnetic principles described in those documents, and others referenced below were applied.  \\nAre there other devices which could change the way we think of our current state of technology? Most certainly the answer is yes!  \\nThere exists the U.S. Patent # 3,626,606 by H. W. Wallace, “Method and Apparatus for Generating a Dynamic Force Field”, and U.S. Patent # 3,626,605 by H. W. Wallace, “ HYPERLINK \"http://www.google.com/patents/about?id=\\\\_9sqAAAAEBAJ&amp;dq= %E2%80%9CMethod+And+Apparatus+For+Generating+A+Dynamic+Force+Field\" Method and Apparatus for Generating a Secondary Gravitational Force Field”. Both these patents expand upon T. Townsend Brown’s work which is itself an extension of Nikola Tesla’s theories on electrostatic propulsion. Both of these inventors’ works have been confiscated by the U.S. Government and classified “Top Secret”.  \\nIn researching these patents I also found: Patent # 6,960,975: “Space Vehicle Propelled by the Pressure of Inflationary Vacuum  \\n  \\n State”, issued Nov 1, 2005 to Boris Volfson, and Patent # 5,197,279, “Electromagnetic Energy Propulsion Engine”, issued March 30, 1993 to James R. Taylor.  \\nA simple internet search would yield much more information, but only these few should suffice to prove these exist and purposefully are kept quiet and not used. Remember, if it has a patent, it is real. You can check for yourself. Go to: www.google.com/patents and see for yourself. Type in those numbers or titles and see what comes up!  \\nThere is also an excellent site with flash animations which surmise this point very well, called - astoundingly: “How UFOs Work”. I recommend watching those short movies. \\\\[Source: HYPERLINK \"http://www.ufohowto.com/\" http://www.ufohowto.com/\\\\] Click on the presentation link. You will learn all about the different types of technologies that are in the patent files concerning what can be classified as “UFOs”.  \\nIn addition to these and other patents, the documentation on this type of research is huge. I cite a research paper by NASA entitled “Field Resonance Propulsion Concept JSC-16073 (NASA-TM-80961)” dated August 1979. The forward of that document reads: “The speculative \"propulsion\" concept described in this paper was presented at a special session of the 15th Joint AIAA/SAE/ASME Propulsion Conference (June 18-20, 1979), \"Propulsion Concepts for Galactic Spacecraft\". The concept was developed as the result of private, unofficial research. NASA is not involved in UFO research. However, the research which may be stimulated by this paper could result in the verification of essential elements of this concept and in feasibility studies concerning the development of a new generation of NASA spacecraft. – Alan C. Holt.”  \\nThis NASA supported research abstract goes on to say: “A new propulsion concept has been developed based on a proposed resonance between coherent, pulsed electromagnetic wave forms and gravitational wave forms (or space-time metrics). Using this concept a spacecraft \"propulsion\" system potentially capable of galactic and inter-galactic travel without prohibitive \"travel times\" has been designed. The \"propulsion\" system utilizes recent research associated with magnetic field line merging, hydromagnetic wave effects, free-electron lasers, laser generation of megagauss fields, and special structural and containment metals. Research required to determine potential, field resonance characteristics and to evaluate various aspects of the spacecraft \"propulsion\" design is described.”  \\nIt then goes on to describe some of the evidence and data from which it draws its conclusions: “If some UFO phenomena are caused by extraterrestrial visitors in very advanced spacecraft, then the frequency of visits and the larger number of different types of visitors (many different humanoids have been described) imply an ability to cross large stretches of galactic and inter-galactic space in relatively short time frames. If the speed of light is a true limit of velocity in space-time, then the potential extraterrestrial visitors must utilize a form of transportation which transcends space and time to keep the trip times short. UFOs are often observed to disappear instantaneously. In a subset of these cases, the UFO later reappears at a nearby location implying a disappearance from and a reappearance into space-time. The high speed, right angle turns, abrupt stops or accelerations of UFOs, and the absence of sonic booms despite calculated speeds of 22,000 mph or more suggest that UFOs may generate an artificial gravitational field or otherwise use properties of space-time which we are not familiar with. UFO propulsion systems appear to involve electromagnetic or hydromagnetic processes as evidenced by radiative effects on the environment such as burns, dehydration, stopping of automobile  \\n  \\n engines, TV and radio disruptions, melting or alteration of ground and road surfaces, power disruptions, and static electricity effects. This data suggests that the unknown relationship between electromagnetic and gravitational fields may be used in UFO propulsion systems.” \\\\[SOURCE: HYPERLINK \"http://ntrs.nasa.gov/archive/nasa/casi.ntrs.nasa.gov/19800010907\\\\_1980010907.pdf\" http:// ntrs.nasa.gov/archive/nasa/casi.ntrs.nasa.gov/19800010907\\\\_1980010907.pdf\\\\]  \\nAnother source of interest comes from the laboratories of Lockheed Martin titled “An Electromagnetic Basis for Inertia and Gravitation: What Are the Implications for 21st Century Physics and Technology? By Bernhard Haisch, Solar &amp; Astrophysics Laboratory Lockheed Martin, in cooperation with Alfonso Rueda, Dept. Elec. Eng. and Dept. Phys. &amp; Astron. California State University Long Beach, CA. This report states: “If an object made of negative matter could be obtained and coupled by elastic, gravitational, or electromagnetic forces to an object containing an equal amount of positive matter, the interactions between the two objects would result in an unlimited amount of unidirectional acceleration of the combination without the requirement for an energy source or reaction mass. In this paper, it is shown in exhaustive detail that, despite their unbelievable propulsive capabilities, negative matter propulsion systems do not violate the Newtonian laws of conservation of linear momentum and energy. Thus, logical objections to the existence of negative matter must be found elsewhere than in Newtonian mechanics. (Forward 1990) We propose that we have indeed found a new insight into the nature of mass, and while this immediately rules out the possibility of negative matter discussed above and its consequent hypothetical propulsion capabilities, it opens an equally revolutionary opportunity: the chance that inertia and gravitation, as electromagnetically-based phenomena, may be subject to modification.” \\\\[SOURCE: HYPERLINK \"http://www.calphysics.org/articles/zpf\\\\_staif98.pdf\" http://www.calphysics.org/articles/zpf\\\\_staif98.pdf\\\\]  \\nInertia and gravitation may be subject to modification. Think about that! This would mean that those 90 degree turns witnessed by people all over the world can be understood and emulated using these concepts without the standard G-force effects which seems otherwise unexplainable!  \\nA third research paper is titled: Engineering the Zero-Point Field and Polarizable Vacuum for Interstellar Flight, by H .E. Puthoff, S.R. Little, and M. Ibison, Institute for Advanced Studies at Austin, Austin Texas. The initial paragraph reads: “A theme that has come to the fore in advanced planning for long-range space exploration is the concept of “propellantless propulsion” or “field propulsion”. One version of this concept involves the projected possibility that empty space itself (the quantum vacuum, or space- time metric) might be manipulated so as to provide energy/thrust for future space vehicles \\\\[1\\\\]. Although far reaching, such a proposal is solidly grounded in modern theory that describes the vacuum as a polarizable medium that sustains energetic quantum fluctuations. Thus the possibility that matter/vacuum interactions might be engineered for space-flight applications is not a priori ruled out, although certain constraints need to be acknowledged. The structure and implications of such a far-reaching hypothesis are considered herein.” \\\\[Source; HYPERLINK \"http://www.gravitycontrol.org/pdf/jbisZPE.pdf\" http://www.gravitycontrol.org/pdf/ jbisZPE.pdf\\\\]  \\nThese papers are right from leading research organizations sanctioned by our very own government. They are intense with physics equations, but in essence they say that almost limitless speed is possible by electromagnetically cancelling out mass which provides an environment for zero inertia. With zero inertia there is no G-force, and without mass unlimited acceleration is feasible. Is this not exactly what is witnessed by the behavior of the UFOs in our skies; Instantaneous accelerations and immediate directional  \\n  \\n change?  \\nI believe that covers the propulsion aspect quite convincingly, at least proving that there are theories and experiments which would provide the capabilities which are observed by UFO’s. But does there exist the energy sources to accomplish this?  \\nAgain we can go to the U.S. Patent Office for those answers, but first I’d like to acknowledge the work of Dr. Steven Greer and his efforts to bring the energy situation to a public light. In his groundbreaking document entitled: “Summary of Breakthrough Energy Technologies; Prepared for: The President of the United States and Members of the US Congress” He outlines the current state of technology, the reasons and methods for suppression, and the most advantageous methods for implementing these right now.  \\nThe introduction states: “This summary document was prepared for the purpose of providing general background information about energy-producing technologies that are outside the usual mainstream consideration or awareness. This document is based on nearly 17 years of research by Dr. Greer, Dr. Loder and other members of The Orion Project, who have been studying energy generation and propulsion technologies. We have identified a number of new energy technologies that within 6 months to several years, given proper funding, may be ready for marketing.”  \\nDr. Greer has presented this repeatedly to government authorities but to this day there has been neither public acknowledgement nor action, which I believe is primarily because of the economic and societal concerns stated toward the beginning of this article. The reasons and methods for the suppression as he’s discovered are included in section 1.5 of that document and are numerous. They are documented and witnessed by people directly interviewed by Dr. Greer. The conclusion of that section states “Considering the multiplicity of suppression techniques described above, a lone inventor or conventional R and D company can in no way overcome such obstacles. Therefore, a strategic plan and capability commensurate with these barriers must be devised and executed in order for these new technologies to succeed.” \\\\[Source: HYPERLINK \"http://www.theorionproject.org/Energy.pdf\" http://www.theorionproject.org/Energy.pdf\\\\] Dr. Greer’s paper does an excellent job of demonstrating such a strategic plan to accomplish that goal.  \\nThere are a number of U.S. Patents which describe what has become to be known as “overunity devices”. These devices create more energy as a product than they require for operation. The argument against that comes from people who cite the “Law of Conservation of Energy” which states that the amount of energy created will always be equal to or less than that which is input”. The caveat is that law applies only to a “closed system” and these devices work on “open system” theories. These devices receive most of their energy from the active environment, which current physics hasn’t yet incorporated into their calculations. Think of it like this; current physics counts the gas tank of your car along with the engine as a closed system. The only source of energy is what is held by that gas tank. In an open system the tank would be constantly filled from an outside source as it uses its reserves, but current physics can’t count that because it doesn’t understand how it’s being refueled. In an open system it would appear to conventional physics as if energy was created from nothingness because they couldn’t detect the filling mechanism. In these cases the filling mechanism is the electromagnetic fabric of the space/time reality which supports matter as we understand it. It’s where atoms get their energy from. Another simple example is a waterwheel. The river is the source of the water. That water is replenished from rainfall. That rainfall is an example of an open system, and can’t be adequately calculated.  \\n     \\n A few of the Patents I’ve found which support this are:  \\n5,436,518. A motor which outputs three times more power than is required to operate it.  \\n4,394,230. Split water into hydrogen and oxygen gasses using less power than is obtained by burning the gasses afterwards. 6,362,718. This device has no moving parts, powers itself and provides power to run other devices.  \\n5,568,005. This device has no moving parts, and provides power to run other devices.  \\n1,540,998. This shows how serious amounts of power can be taken from an ordinary aerial.  \\nFor more information on the latest energy developments I suggest these websites:  \\nHYPERLINK \"http://www.theorionproject.org/en/index.html\" http://www.theorionproject.org/en/index.html HYPERLINK \"http://www.cheniere.org/toc.html\" http://www.cheniere.org/toc.html  \\nHYPERLINK \"http://www.rexresearch.com/1index.htm#freen\" http://www.rexresearch.com/1index.htm#freen HYPERLINK \"http://pesn.com/\" http://pesn.com/  \\nHYPERLINK \"http://merlib.org/book/export/html/4213\" http://merlib.org/book/export/html/4213  \\nKnowing what I do now, it would be irresponsible to conclude based upon the observed behavior of anomalous objects that they must be from another world. They may or may not be! As a UFO investigator that would be irresponsible until I actually interview the occupants of such craft.  \\nIn conclusion, based on my research I believe the world could, - and should - be completely different than the situation we face today. If the advent of limitless energy were a reality there would be no necessity for strife or the unnecessary condition of being “poor”. With the cost of energy removed from every aspect of our society, and transportation becoming a limitless availability the world could change very rapidly into the “Star Trek” generation we all have visions of the future becoming. The only necessity would be one where the individual makes the most of him or herself, ideally for the betterment of mankind and contributing to the experience of the whole. The only “currency” that would ever be necessary would be the creativity one brings with them to the overall experience of humanity.  \\nThere will be a very painful transition period which I believe we as a society can endure. The few people who are benefiting most from the current situation have the most to lose, while the vast majority of humans on this planet will have unimaginable gains as the result. We are being offered a world where true equality actually exists.  \\nIf we can handle this change, then I think we truly will be ready to seriously think about open contact with our galactic visitors. From the majority of the reports, this is exactly what those visitors are waiting for. We should be well prepared to stand on equal footing as peers when the time to greet our neighbors and join the galactic community arrives. It will take a global “team effort”. As it turns out “we are who we’ve been waiting for”. I personally am tired of waiting. How about you?  \\nI wish to thank all the people referenced for their work in developing this article. I sincerely recommend supporting them by visiting their websites and contributing where you can. It will only help the transition happen more quickly. Also please support “The  \\n  \\n Disclosure Project” and any other disclosure efforts worldwide. If more people come forward who are involved with these “special access projects”, the quicker this can be widely known and implemented. There must be thousands of people who are sworn to secrecy who can help enlighten the public. If you are one of these people, please consider what you can do for posterity.  \\nPortions of copyrighted materials are used with great thanks and in accordance with the “fair use” doctrine for educational purposes by a nonprofit organization. Spread the love.'"
      ]
     },
     "execution_count": 25,
     "metadata": {},
     "output_type": "execute_result"
    }
   ],
   "source": [
    "df.iloc[970][\"post\"]"
   ]
  },
  {
   "cell_type": "code",
   "execution_count": 26,
   "metadata": {
    "scrolled": true
   },
   "outputs": [],
   "source": [
    "df.drop(index=970, inplace=True)"
   ]
  },
  {
   "cell_type": "markdown",
   "metadata": {},
   "source": [
    "**Action done**: Selectively explore posts more than 10,000 words, and noted the 2 longest posts are valid posts but duplicated. Hence remove the longest and keep all remaining posts even though they are exceptionally long, but still contain useful information. "
   ]
  },
  {
   "cell_type": "code",
   "execution_count": 27,
   "metadata": {},
   "outputs": [],
   "source": [
    "#split the aliens posts and space posts to further analysis their respective characteristics\n",
    "df_aliens = df[df[\"subreddit\"]==1]\n",
    "df_space = df[df[\"subreddit\"] ==0]"
   ]
  },
  {
   "cell_type": "code",
   "execution_count": 28,
   "metadata": {},
   "outputs": [
    {
     "name": "stdout",
     "output_type": "stream",
     "text": [
      "<class 'pandas.core.frame.DataFrame'>\n",
      "Int64Index: 1062 entries, 0 to 1062\n",
      "Data columns (total 5 columns):\n",
      " #   Column      Non-Null Count  Dtype \n",
      "---  ------      --------------  ----- \n",
      " 0   title       1062 non-null   object\n",
      " 1   selftext    1062 non-null   object\n",
      " 2   subreddit   1062 non-null   int64 \n",
      " 3   post        1062 non-null   object\n",
      " 4   post_count  1062 non-null   int64 \n",
      "dtypes: int64(2), object(3)\n",
      "memory usage: 49.8+ KB\n"
     ]
    }
   ],
   "source": [
    "df_aliens.info()"
   ]
  },
  {
   "cell_type": "code",
   "execution_count": 29,
   "metadata": {
    "scrolled": false
   },
   "outputs": [
    {
     "name": "stdout",
     "output_type": "stream",
     "text": [
      "<class 'pandas.core.frame.DataFrame'>\n",
      "Int64Index: 537 entries, 1063 to 1599\n",
      "Data columns (total 5 columns):\n",
      " #   Column      Non-Null Count  Dtype \n",
      "---  ------      --------------  ----- \n",
      " 0   title       537 non-null    object\n",
      " 1   selftext    537 non-null    object\n",
      " 2   subreddit   537 non-null    int64 \n",
      " 3   post        537 non-null    object\n",
      " 4   post_count  537 non-null    int64 \n",
      "dtypes: int64(2), object(3)\n",
      "memory usage: 25.2+ KB\n"
     ]
    }
   ],
   "source": [
    "df_space.info()"
   ]
  },
  {
   "cell_type": "markdown",
   "metadata": {},
   "source": [
    "**Interpretation**: Notice the distribution of aliens and space posts is not balanced, hence accuracy will not be the best metrics and F1 score will be used for evaluation. This is consistent with the problem statement. "
   ]
  },
  {
   "cell_type": "code",
   "execution_count": 30,
   "metadata": {},
   "outputs": [],
   "source": [
    "#combine all aliens post and space posts into a large single string of text respectively\n",
    "aliens_text = ' '.join(word for word in df_aliens[\"post\"])\n",
    "space_text = ' '.join(word for word in df_space[\"post\"])"
   ]
  },
  {
   "cell_type": "code",
   "execution_count": 31,
   "metadata": {
    "scrolled": true
   },
   "outputs": [
    {
     "data": {
      "text/plain": [
       "Text(0.5, 1.0, 'wordcloud for Aliens posts')"
      ]
     },
     "execution_count": 31,
     "metadata": {},
     "output_type": "execute_result"
    },
    {
     "data": {
      "image/png": "[encoded data removed]",
      "text/plain": [
       "<Figure size 432x288 with 1 Axes>"
      ]
     },
     "metadata": {
      "needs_background": "light"
     },
     "output_type": "display_data"
    }
   ],
   "source": [
    "wordcloud = WordCloud(stopwords=STOPWORDS).generate(aliens_text)\n",
    "plt.figure()\n",
    "plt.axis(\"off\")\n",
    "plt.imshow(wordcloud, interpolation='bilinear')\n",
    "plt.title(\"wordcloud for Aliens posts\")"
   ]
  },
  {
   "cell_type": "code",
   "execution_count": 32,
   "metadata": {
    "scrolled": true
   },
   "outputs": [
    {
     "data": {
      "text/plain": [
       "Text(0.5, 1.0, 'wordcloud for Space posts')"
      ]
     },
     "execution_count": 32,
     "metadata": {},
     "output_type": "execute_result"
    },
    {
     "data": {
      "image/png": "[encoded data removed]",
      "text/plain": [
       "<Figure size 432x288 with 1 Axes>"
      ]
     },
     "metadata": {
      "needs_background": "light"
     },
     "output_type": "display_data"
    }
   ],
   "source": [
    "wordcloud = WordCloud(stopwords=STOPWORDS).generate(space_text)\n",
    "plt.figure()\n",
    "plt.axis(\"off\")\n",
    "plt.imshow(wordcloud, interpolation='bilinear')\n",
    "plt.title(\"wordcloud for Space posts\")"
   ]
  },
  {
   "cell_type": "markdown",
   "metadata": {},
   "source": [
    "**Interpretation**: Based on wordcloud, noted each subreddit has its own unique words.  \n",
    "Aliens posts contain \"alien\", \"ufo\", \"people\", \"human\", \"one\".  \n",
    "Space posts contain \"space\", \"earth\", \"JWST, \"will\", \"time\".   \n",
    "Hence, the problem statement can likely be answered based on data extracted. "
   ]
  },
  {
   "cell_type": "markdown",
   "metadata": {},
   "source": [
    "Data Cleaning and EDA\n",
    "\n",
    "- Are missing values imputed/handled appropriately?  \n",
    "Ans: removed missing values. \n",
    "- Are distributions examined and described?  \n",
    "Ans: Noted distribution is not balanced, hence accuracy is not the best metrics for evaluation.  \n",
    "- Are outliers identified and addressed?  \n",
    "Ans: Checked outliers and remove duplicated posts only because longer posts are still valid posts. \n",
    "- Are appropriate summary statistics provided?  \n",
    "Ans: Yes, checked mean and max word count and percentile. \n",
    "- Are steps taken during data cleaning and EDA framed appropriately?  \n",
    "Ans: Yes.\n",
    "- Does the student address whether or not they are likely to be able to answer their problem statement with the provided data given what they've discovered during EDA?  \n",
    "Ans: Used wordcloud to illustrate different common words used in respective posts. "
   ]
  },
  {
   "cell_type": "markdown",
   "metadata": {},
   "source": [
    "## Preprocessing & Modeling"
   ]
  },
  {
   "cell_type": "markdown",
   "metadata": {},
   "source": [
    "### Data Dictionary\n"
   ]
  },
  {
   "cell_type": "markdown",
   "metadata": {},
   "source": [
    "|Feature|Type|Description|\n",
    "|---|---|---|\n",
    "|title|*object*|title of the post| \n",
    "|selftext|*object*|text of the post| \n",
    "|reddit|*bool*|1 = aliens| \n",
    "|post|*object*|title + selftext| "
   ]
  },
  {
   "cell_type": "code",
   "execution_count": 33,
   "metadata": {},
   "outputs": [],
   "source": [
    "#assign X and y as feature and result\n",
    "X = df[\"post\"]\n",
    "y = df[\"subreddit\"]"
   ]
  },
  {
   "cell_type": "code",
   "execution_count": 34,
   "metadata": {},
   "outputs": [],
   "source": [
    "#train test split\n",
    "X_train, X_test, y_train, y_test = train_test_split(X, y, random_state=42)"
   ]
  },
  {
   "cell_type": "code",
   "execution_count": 35,
   "metadata": {},
   "outputs": [],
   "source": [
    "#instantiate TFIDF\n",
    "tvec = TfidfVectorizer()"
   ]
  },
  {
   "cell_type": "code",
   "execution_count": 36,
   "metadata": {
    "scrolled": true
   },
   "outputs": [
    {
     "data": {
      "text/html": [
       "<div>\n",
       "<style scoped>\n",
       "    .dataframe tbody tr th:only-of-type {\n",
       "        vertical-align: middle;\n",
       "    }\n",
       "\n",
       "    .dataframe tbody tr th {\n",
       "        vertical-align: top;\n",
       "    }\n",
       "\n",
       "    .dataframe thead th {\n",
       "        text-align: right;\n",
       "    }\n",
       "</style>\n",
       "<table border=\"1\" class=\"dataframe\">\n",
       "  <thead>\n",
       "    <tr style=\"text-align: right;\">\n",
       "      <th></th>\n",
       "      <th>00</th>\n",
       "      <th>000</th>\n",
       "      <th>000ly</th>\n",
       "      <th>000yrs</th>\n",
       "      <th>0021</th>\n",
       "      <th>005</th>\n",
       "      <th>00dc7f88d28ce6c5c2549c60b489225c62023b93</th>\n",
       "      <th>01</th>\n",
       "      <th>01011</th>\n",
       "      <th>013</th>\n",
       "      <th>...</th>\n",
       "      <th>非法之事已被专业人士和砸郭派揭批的体无完肤</th>\n",
       "      <th>项目上线阶梯</th>\n",
       "      <th>项目仅仅上线一月</th>\n",
       "      <th>风头一时无两</th>\n",
       "      <th>馅饼就会从天下落下</th>\n",
       "      <th>高达2亿多的欠债加罚款</th>\n",
       "      <th>鸡体味</th>\n",
       "      <th>鸡币</th>\n",
       "      <th>鸡系列</th>\n",
       "      <th>黄金挂钩</th>\n",
       "    </tr>\n",
       "  </thead>\n",
       "  <tbody>\n",
       "    <tr>\n",
       "      <th>0</th>\n",
       "      <td>0.0</td>\n",
       "      <td>0.0</td>\n",
       "      <td>0.0</td>\n",
       "      <td>0.0</td>\n",
       "      <td>0.0</td>\n",
       "      <td>0.0</td>\n",
       "      <td>0.0</td>\n",
       "      <td>0.0</td>\n",
       "      <td>0.0</td>\n",
       "      <td>0.0</td>\n",
       "      <td>...</td>\n",
       "      <td>0.0</td>\n",
       "      <td>0.0</td>\n",
       "      <td>0.0</td>\n",
       "      <td>0.0</td>\n",
       "      <td>0.0</td>\n",
       "      <td>0.0</td>\n",
       "      <td>0.0</td>\n",
       "      <td>0.0</td>\n",
       "      <td>0.0</td>\n",
       "      <td>0.0</td>\n",
       "    </tr>\n",
       "    <tr>\n",
       "      <th>1</th>\n",
       "      <td>0.0</td>\n",
       "      <td>0.0</td>\n",
       "      <td>0.0</td>\n",
       "      <td>0.0</td>\n",
       "      <td>0.0</td>\n",
       "      <td>0.0</td>\n",
       "      <td>0.0</td>\n",
       "      <td>0.0</td>\n",
       "      <td>0.0</td>\n",
       "      <td>0.0</td>\n",
       "      <td>...</td>\n",
       "      <td>0.0</td>\n",
       "      <td>0.0</td>\n",
       "      <td>0.0</td>\n",
       "      <td>0.0</td>\n",
       "      <td>0.0</td>\n",
       "      <td>0.0</td>\n",
       "      <td>0.0</td>\n",
       "      <td>0.0</td>\n",
       "      <td>0.0</td>\n",
       "      <td>0.0</td>\n",
       "    </tr>\n",
       "    <tr>\n",
       "      <th>2</th>\n",
       "      <td>0.0</td>\n",
       "      <td>0.0</td>\n",
       "      <td>0.0</td>\n",
       "      <td>0.0</td>\n",
       "      <td>0.0</td>\n",
       "      <td>0.0</td>\n",
       "      <td>0.0</td>\n",
       "      <td>0.0</td>\n",
       "      <td>0.0</td>\n",
       "      <td>0.0</td>\n",
       "      <td>...</td>\n",
       "      <td>0.0</td>\n",
       "      <td>0.0</td>\n",
       "      <td>0.0</td>\n",
       "      <td>0.0</td>\n",
       "      <td>0.0</td>\n",
       "      <td>0.0</td>\n",
       "      <td>0.0</td>\n",
       "      <td>0.0</td>\n",
       "      <td>0.0</td>\n",
       "      <td>0.0</td>\n",
       "    </tr>\n",
       "    <tr>\n",
       "      <th>3</th>\n",
       "      <td>0.0</td>\n",
       "      <td>0.0</td>\n",
       "      <td>0.0</td>\n",
       "      <td>0.0</td>\n",
       "      <td>0.0</td>\n",
       "      <td>0.0</td>\n",
       "      <td>0.0</td>\n",
       "      <td>0.0</td>\n",
       "      <td>0.0</td>\n",
       "      <td>0.0</td>\n",
       "      <td>...</td>\n",
       "      <td>0.0</td>\n",
       "      <td>0.0</td>\n",
       "      <td>0.0</td>\n",
       "      <td>0.0</td>\n",
       "      <td>0.0</td>\n",
       "      <td>0.0</td>\n",
       "      <td>0.0</td>\n",
       "      <td>0.0</td>\n",
       "      <td>0.0</td>\n",
       "      <td>0.0</td>\n",
       "    </tr>\n",
       "    <tr>\n",
       "      <th>4</th>\n",
       "      <td>0.0</td>\n",
       "      <td>0.0</td>\n",
       "      <td>0.0</td>\n",
       "      <td>0.0</td>\n",
       "      <td>0.0</td>\n",
       "      <td>0.0</td>\n",
       "      <td>0.0</td>\n",
       "      <td>0.0</td>\n",
       "      <td>0.0</td>\n",
       "      <td>0.0</td>\n",
       "      <td>...</td>\n",
       "      <td>0.0</td>\n",
       "      <td>0.0</td>\n",
       "      <td>0.0</td>\n",
       "      <td>0.0</td>\n",
       "      <td>0.0</td>\n",
       "      <td>0.0</td>\n",
       "      <td>0.0</td>\n",
       "      <td>0.0</td>\n",
       "      <td>0.0</td>\n",
       "      <td>0.0</td>\n",
       "    </tr>\n",
       "    <tr>\n",
       "      <th>...</th>\n",
       "      <td>...</td>\n",
       "      <td>...</td>\n",
       "      <td>...</td>\n",
       "      <td>...</td>\n",
       "      <td>...</td>\n",
       "      <td>...</td>\n",
       "      <td>...</td>\n",
       "      <td>...</td>\n",
       "      <td>...</td>\n",
       "      <td>...</td>\n",
       "      <td>...</td>\n",
       "      <td>...</td>\n",
       "      <td>...</td>\n",
       "      <td>...</td>\n",
       "      <td>...</td>\n",
       "      <td>...</td>\n",
       "      <td>...</td>\n",
       "      <td>...</td>\n",
       "      <td>...</td>\n",
       "      <td>...</td>\n",
       "      <td>...</td>\n",
       "    </tr>\n",
       "    <tr>\n",
       "      <th>1194</th>\n",
       "      <td>0.0</td>\n",
       "      <td>0.0</td>\n",
       "      <td>0.0</td>\n",
       "      <td>0.0</td>\n",
       "      <td>0.0</td>\n",
       "      <td>0.0</td>\n",
       "      <td>0.0</td>\n",
       "      <td>0.0</td>\n",
       "      <td>0.0</td>\n",
       "      <td>0.0</td>\n",
       "      <td>...</td>\n",
       "      <td>0.0</td>\n",
       "      <td>0.0</td>\n",
       "      <td>0.0</td>\n",
       "      <td>0.0</td>\n",
       "      <td>0.0</td>\n",
       "      <td>0.0</td>\n",
       "      <td>0.0</td>\n",
       "      <td>0.0</td>\n",
       "      <td>0.0</td>\n",
       "      <td>0.0</td>\n",
       "    </tr>\n",
       "    <tr>\n",
       "      <th>1195</th>\n",
       "      <td>0.0</td>\n",
       "      <td>0.0</td>\n",
       "      <td>0.0</td>\n",
       "      <td>0.0</td>\n",
       "      <td>0.0</td>\n",
       "      <td>0.0</td>\n",
       "      <td>0.0</td>\n",
       "      <td>0.0</td>\n",
       "      <td>0.0</td>\n",
       "      <td>0.0</td>\n",
       "      <td>...</td>\n",
       "      <td>0.0</td>\n",
       "      <td>0.0</td>\n",
       "      <td>0.0</td>\n",
       "      <td>0.0</td>\n",
       "      <td>0.0</td>\n",
       "      <td>0.0</td>\n",
       "      <td>0.0</td>\n",
       "      <td>0.0</td>\n",
       "      <td>0.0</td>\n",
       "      <td>0.0</td>\n",
       "    </tr>\n",
       "    <tr>\n",
       "      <th>1196</th>\n",
       "      <td>0.0</td>\n",
       "      <td>0.0</td>\n",
       "      <td>0.0</td>\n",
       "      <td>0.0</td>\n",
       "      <td>0.0</td>\n",
       "      <td>0.0</td>\n",
       "      <td>0.0</td>\n",
       "      <td>0.0</td>\n",
       "      <td>0.0</td>\n",
       "      <td>0.0</td>\n",
       "      <td>...</td>\n",
       "      <td>0.0</td>\n",
       "      <td>0.0</td>\n",
       "      <td>0.0</td>\n",
       "      <td>0.0</td>\n",
       "      <td>0.0</td>\n",
       "      <td>0.0</td>\n",
       "      <td>0.0</td>\n",
       "      <td>0.0</td>\n",
       "      <td>0.0</td>\n",
       "      <td>0.0</td>\n",
       "    </tr>\n",
       "    <tr>\n",
       "      <th>1197</th>\n",
       "      <td>0.0</td>\n",
       "      <td>0.0</td>\n",
       "      <td>0.0</td>\n",
       "      <td>0.0</td>\n",
       "      <td>0.0</td>\n",
       "      <td>0.0</td>\n",
       "      <td>0.0</td>\n",
       "      <td>0.0</td>\n",
       "      <td>0.0</td>\n",
       "      <td>0.0</td>\n",
       "      <td>...</td>\n",
       "      <td>0.0</td>\n",
       "      <td>0.0</td>\n",
       "      <td>0.0</td>\n",
       "      <td>0.0</td>\n",
       "      <td>0.0</td>\n",
       "      <td>0.0</td>\n",
       "      <td>0.0</td>\n",
       "      <td>0.0</td>\n",
       "      <td>0.0</td>\n",
       "      <td>0.0</td>\n",
       "    </tr>\n",
       "    <tr>\n",
       "      <th>1198</th>\n",
       "      <td>0.0</td>\n",
       "      <td>0.0</td>\n",
       "      <td>0.0</td>\n",
       "      <td>0.0</td>\n",
       "      <td>0.0</td>\n",
       "      <td>0.0</td>\n",
       "      <td>0.0</td>\n",
       "      <td>0.0</td>\n",
       "      <td>0.0</td>\n",
       "      <td>0.0</td>\n",
       "      <td>...</td>\n",
       "      <td>0.0</td>\n",
       "      <td>0.0</td>\n",
       "      <td>0.0</td>\n",
       "      <td>0.0</td>\n",
       "      <td>0.0</td>\n",
       "      <td>0.0</td>\n",
       "      <td>0.0</td>\n",
       "      <td>0.0</td>\n",
       "      <td>0.0</td>\n",
       "      <td>0.0</td>\n",
       "    </tr>\n",
       "  </tbody>\n",
       "</table>\n",
       "<p>1199 rows × 14397 columns</p>\n",
       "</div>"
      ],
      "text/plain": [
       "       00  000  000ly  000yrs  0021  005  \\\n",
       "0     0.0  0.0    0.0     0.0   0.0  0.0   \n",
       "1     0.0  0.0    0.0     0.0   0.0  0.0   \n",
       "2     0.0  0.0    0.0     0.0   0.0  0.0   \n",
       "3     0.0  0.0    0.0     0.0   0.0  0.0   \n",
       "4     0.0  0.0    0.0     0.0   0.0  0.0   \n",
       "...   ...  ...    ...     ...   ...  ...   \n",
       "1194  0.0  0.0    0.0     0.0   0.0  0.0   \n",
       "1195  0.0  0.0    0.0     0.0   0.0  0.0   \n",
       "1196  0.0  0.0    0.0     0.0   0.0  0.0   \n",
       "1197  0.0  0.0    0.0     0.0   0.0  0.0   \n",
       "1198  0.0  0.0    0.0     0.0   0.0  0.0   \n",
       "\n",
       "      00dc7f88d28ce6c5c2549c60b489225c62023b93   01  01011  013  ...  \\\n",
       "0                                          0.0  0.0    0.0  0.0  ...   \n",
       "1                                          0.0  0.0    0.0  0.0  ...   \n",
       "2                                          0.0  0.0    0.0  0.0  ...   \n",
       "3                                          0.0  0.0    0.0  0.0  ...   \n",
       "4                                          0.0  0.0    0.0  0.0  ...   \n",
       "...                                        ...  ...    ...  ...  ...   \n",
       "1194                                       0.0  0.0    0.0  0.0  ...   \n",
       "1195                                       0.0  0.0    0.0  0.0  ...   \n",
       "1196                                       0.0  0.0    0.0  0.0  ...   \n",
       "1197                                       0.0  0.0    0.0  0.0  ...   \n",
       "1198                                       0.0  0.0    0.0  0.0  ...   \n",
       "\n",
       "      非法之事已被专业人士和砸郭派揭批的体无完肤  项目上线阶梯  项目仅仅上线一月  风头一时无两  馅饼就会从天下落下  高达2亿多的欠债加罚款  \\\n",
       "0                       0.0     0.0       0.0     0.0        0.0          0.0   \n",
       "1                       0.0     0.0       0.0     0.0        0.0          0.0   \n",
       "2                       0.0     0.0       0.0     0.0        0.0          0.0   \n",
       "3                       0.0     0.0       0.0     0.0        0.0          0.0   \n",
       "4                       0.0     0.0       0.0     0.0        0.0          0.0   \n",
       "...                     ...     ...       ...     ...        ...          ...   \n",
       "1194                    0.0     0.0       0.0     0.0        0.0          0.0   \n",
       "1195                    0.0     0.0       0.0     0.0        0.0          0.0   \n",
       "1196                    0.0     0.0       0.0     0.0        0.0          0.0   \n",
       "1197                    0.0     0.0       0.0     0.0        0.0          0.0   \n",
       "1198                    0.0     0.0       0.0     0.0        0.0          0.0   \n",
       "\n",
       "      鸡体味   鸡币  鸡系列  黄金挂钩  \n",
       "0     0.0  0.0  0.0   0.0  \n",
       "1     0.0  0.0  0.0   0.0  \n",
       "2     0.0  0.0  0.0   0.0  \n",
       "3     0.0  0.0  0.0   0.0  \n",
       "4     0.0  0.0  0.0   0.0  \n",
       "...   ...  ...  ...   ...  \n",
       "1194  0.0  0.0  0.0   0.0  \n",
       "1195  0.0  0.0  0.0   0.0  \n",
       "1196  0.0  0.0  0.0   0.0  \n",
       "1197  0.0  0.0  0.0   0.0  \n",
       "1198  0.0  0.0  0.0   0.0  \n",
       "\n",
       "[1199 rows x 14397 columns]"
      ]
     },
     "execution_count": 36,
     "metadata": {},
     "output_type": "execute_result"
    }
   ],
   "source": [
    "X_train_df = pd.DataFrame(tvec.fit_transform(X_train).todense(), columns=tvec.get_feature_names_out())\n",
    "X_train_df"
   ]
  },
  {
   "cell_type": "markdown",
   "metadata": {},
   "source": [
    "**Interpretation**: Notice there are chinese charaters, will further clean data to remove non-english words. "
   ]
  },
  {
   "cell_type": "code",
   "execution_count": 37,
   "metadata": {
    "scrolled": false
   },
   "outputs": [],
   "source": [
    "#make all posts to lower case\n",
    "df[\"post\"] = df[\"post\"].map(lambda x: x.lower())"
   ]
  },
  {
   "cell_type": "code",
   "execution_count": 38,
   "metadata": {},
   "outputs": [],
   "source": [
    "tokenizer = RegexpTokenizer('[a-z]\\w+')"
   ]
  },
  {
   "cell_type": "code",
   "execution_count": 39,
   "metadata": {
    "scrolled": true
   },
   "outputs": [],
   "source": [
    "#Use Regex Tokenizer to remove non-english words\n",
    "df[\"post\"] = df[\"post\"].map(lambda x: tokenizer.tokenize(x))"
   ]
  },
  {
   "cell_type": "code",
   "execution_count": 40,
   "metadata": {},
   "outputs": [],
   "source": [
    "#Instantiate lemmatizer\n",
    "lemmatizer = WordNetLemmatizer()"
   ]
  },
  {
   "cell_type": "code",
   "execution_count": 41,
   "metadata": {
    "scrolled": true
   },
   "outputs": [],
   "source": [
    "#create new column for lemmatized words\n",
    "df[\"post\"] = df[\"post\"].apply(lambda x: [lemmatizer.lemmatize(i) for i in x])"
   ]
  },
  {
   "cell_type": "markdown",
   "metadata": {},
   "source": [
    "**Rationale**: Decided to only lemmatize and not to stem the posts, because stemming the words may produce non-english words which is difficult to interpret when analysing top words."
   ]
  },
  {
   "cell_type": "code",
   "execution_count": 42,
   "metadata": {},
   "outputs": [],
   "source": [
    "#exclude stop words in all posts\n",
    "df[\"post\"] =  df[\"post\"].apply(lambda x: [i for i in x if i not in stopwords.words(\"english\")]).str.join(' ')"
   ]
  },
  {
   "cell_type": "code",
   "execution_count": 44,
   "metadata": {},
   "outputs": [],
   "source": [
    "#re-assign X and y after preprocessing\n",
    "X = df[\"post\"]\n",
    "y = df[\"subreddit\"]"
   ]
  },
  {
   "cell_type": "code",
   "execution_count": 45,
   "metadata": {},
   "outputs": [],
   "source": [
    "#turn on stratify because the distribution of y is not balanced\n",
    "X_train, X_test, y_train, y_test = train_test_split(X, y, random_state=42, stratify=y)"
   ]
  },
  {
   "cell_type": "code",
   "execution_count": 46,
   "metadata": {},
   "outputs": [
    {
     "data": {
      "text/plain": [
       "(1199,)"
      ]
     },
     "execution_count": 46,
     "metadata": {},
     "output_type": "execute_result"
    }
   ],
   "source": [
    "X_train.shape"
   ]
  },
  {
   "cell_type": "code",
   "execution_count": 47,
   "metadata": {
    "scrolled": true
   },
   "outputs": [
    {
     "data": {
      "text/plain": [
       "1    0.664165\n",
       "0    0.335835\n",
       "Name: subreddit, dtype: float64"
      ]
     },
     "execution_count": 47,
     "metadata": {},
     "output_type": "execute_result"
    }
   ],
   "source": [
    "y.value_counts(normalize=True)"
   ]
  },
  {
   "cell_type": "markdown",
   "metadata": {},
   "source": [
    "**Interpretation**: Confirmed distribution of y is consistent with distribution noted in data cleaning, i.e. aliens posts have higher proportion. "
   ]
  },
  {
   "cell_type": "code",
   "execution_count": 48,
   "metadata": {},
   "outputs": [],
   "source": [
    "#pipeline TFIDF with MNB\n",
    "tvc_pipe = Pipeline([\n",
    "    ('tvec', TfidfVectorizer()), \n",
    "    ('mb', MultinomialNB())\n",
    "])"
   ]
  },
  {
   "cell_type": "code",
   "execution_count": 49,
   "metadata": {},
   "outputs": [],
   "source": [
    "#pipeline TFIDF with Random Forest\n",
    "rf_pipe = Pipeline([\n",
    "    ('tvec', TfidfVectorizer()), \n",
    "    ('rf', RandomForestClassifier())\n",
    "])"
   ]
  },
  {
   "cell_type": "code",
   "execution_count": 50,
   "metadata": {},
   "outputs": [],
   "source": [
    "#pipeline TFIDF with Logistic Regression\n",
    "logistic_pipe = Pipeline([\n",
    "    ('tvec', TfidfVectorizer()), \n",
    "    ('logistic', LogisticRegression())\n",
    "])"
   ]
  },
  {
   "cell_type": "code",
   "execution_count": 51,
   "metadata": {},
   "outputs": [],
   "source": [
    "#pipeline TFIDF with MNB\n",
    "cvec_pipe = Pipeline([\n",
    "    ('cvec', CountVectorizer()), \n",
    "    ('mb', MultinomialNB())\n",
    "])"
   ]
  },
  {
   "cell_type": "code",
   "execution_count": 52,
   "metadata": {},
   "outputs": [],
   "source": [
    "#pipeline TFIDF with Random Forest\n",
    "cvec_rf = Pipeline([\n",
    "    ('cvec', CountVectorizer()), \n",
    "    ('rf', RandomForestClassifier())\n",
    "])"
   ]
  },
  {
   "cell_type": "code",
   "execution_count": 53,
   "metadata": {},
   "outputs": [],
   "source": [
    "#pipeline TFIDF with Logistic Regression\n",
    "cvec_log = Pipeline([\n",
    "    ('cvec', CountVectorizer()), \n",
    "    ('logistic', LogisticRegression())\n",
    "])"
   ]
  },
  {
   "cell_type": "code",
   "execution_count": 54,
   "metadata": {},
   "outputs": [
    {
     "data": {
      "text/plain": [
       "Pipeline(steps=[('cvec', CountVectorizer()),\n",
       "                ('logistic', LogisticRegression())])"
      ]
     },
     "execution_count": 54,
     "metadata": {},
     "output_type": "execute_result"
    }
   ],
   "source": [
    "#fit all pipeline models to train data\n",
    "tvc_pipe.fit(X_train, y_train)\n",
    "rf_pipe.fit(X_train, y_train)\n",
    "logistic_pipe.fit(X_train, y_train)\n",
    "cvec_pipe.fit(X_train, y_train)\n",
    "cvec_rf.fit(X_train, y_train)\n",
    "cvec_log.fit(X_train, y_train)"
   ]
  },
  {
   "cell_type": "code",
   "execution_count": 55,
   "metadata": {
    "scrolled": false
   },
   "outputs": [
    {
     "name": "stdout",
     "output_type": "stream",
     "text": [
      "+-----------------+-------------+------------+----------+\n",
      "|      Model      | Train score | Test score | f1 score |\n",
      "+-----------------+-------------+------------+----------+\n",
      "|    TFIDF, MNB   |     0.85    |    0.79    |   0.86   |\n",
      "|    TFIDF, RF    |     1.0     |    0.92    |   0.94   |\n",
      "| TFIDF, Logistic |     0.95    |    0.89    |   0.92   |\n",
      "|    Cvec, MNB    |     0.96    |    0.91    |   0.94   |\n",
      "|     Cvec, RF    |     1.0     |    0.92    |   0.94   |\n",
      "|  Cvec, Logistic |     1.0     |    0.92    |   0.94   |\n",
      "+-----------------+-------------+------------+----------+\n"
     ]
    }
   ],
   "source": [
    "t = PrettyTable([\"Model\", \"Train score\", \"Test score\", \"f1 score\"])\n",
    "t.add_row([\"TFIDF, MNB\", round(tvc_pipe.score(X_train, y_train),2),round(tvc_pipe.score(X_test, y_test),2),round(f1_score(y_test, tvc_pipe.predict(X_test)), 2) ])\n",
    "t.add_row([\"TFIDF, RF\", round(rf_pipe.score(X_train, y_train),2),round(rf_pipe.score(X_test, y_test),2), round(f1_score(y_test, rf_pipe.predict(X_test)),2) ])\n",
    "t.add_row([\"TFIDF, Logistic\", round(logistic_pipe.score(X_train, y_train),2),round(logistic_pipe.score(X_test, y_test),2), round(f1_score(y_test, logistic_pipe.predict(X_test)),2) ])\n",
    "t.add_row([\"Cvec, MNB\", round(cvec_pipe.score(X_train, y_train),2),round(cvec_pipe.score(X_test, y_test),2), round(f1_score(y_test, cvec_pipe.predict(X_test)),2) ])\n",
    "t.add_row([\"Cvec, RF\", round(cvec_rf.score(X_train, y_train),2),round(cvec_rf.score(X_test, y_test),2), round(f1_score(y_test, cvec_rf.predict(X_test)),2) ])\n",
    "t.add_row([\"Cvec, Logistic\", round(cvec_log.score(X_train, y_train),2),round(cvec_log.score(X_test, y_test),2), round(f1_score(y_test, cvec_log.predict(X_test)),2) ])\n",
    "print(t)"
   ]
  },
  {
   "cell_type": "markdown",
   "metadata": {},
   "source": [
    "**Interpretation**: All models test scores and F1 scores are quite high at around 90% except for MultinomialNB with TFIDF have lower score. \n",
    "\n",
    "Logistic Regression's gap between train and test score is around 6%-8% which is similar to other models, which indicates low variance and potentially will work well with new unseen data. Logistic regression also has the best interpretability. Hence, will use Logistic Regression model as baseline model.  \n",
    "  \n",
    "Logistic Regression is actually a regression model although we are using it for classification problem. Each word has its own Logistic Regression coefficient that contributes the classification as \"aliens\" or \"space\". Although Logistic Regression does not handle non linear features well, it did good in our case."
   ]
  },
  {
   "cell_type": "markdown",
   "metadata": {},
   "source": [
    "Preprocessing and Modeling\n",
    "\n",
    "- Is text data successfully converted to a matrix representation?  \n",
    "Ans: Yes.\n",
    "- Are methods such as stop words, stemming, and lemmatization explored?  \n",
    "Ans: Yes, stop words and lemmatization. \n",
    "- Does the student properly split and/or sample the data for validation/training purposes?  \n",
    "Ans: Yes\n",
    "- Does the student test and evaluate a variety of models to identify a production algorithm (AT MINIMUM: Random Forest and one other model)?  \n",
    "Ans: Yes. MNB, Random Forest and Logistic Regression.  \n",
    "- Does the student defend their choice of production model relevant to the data at hand and the problem?  \n",
    "Ans: Yes, used Logistic Regression because of its score is good and easier interpretation.\n",
    "- Does the student explain how the model works and evaluate its performance successes/downfalls?  \n",
    "Ans: Yes. Evaluate the how logistic regression works how to evaluate its performance. "
   ]
  },
  {
   "cell_type": "markdown",
   "metadata": {},
   "source": [
    "## Evaluation and Conceptual Understanding"
   ]
  },
  {
   "cell_type": "code",
   "execution_count": 56,
   "metadata": {},
   "outputs": [],
   "source": [
    "#indicate parameters for tuning\n",
    "tf_params = {\n",
    " 'tvec__max_features':[100, 2000, 3000 ,4000],\n",
    " 'tvec__ngram_range': [(1, 1), (1, 2), (2, 2)],\n",
    " 'tvec__stop_words': [None, 'english'], \n",
    "    'logistic__solver': ['liblinear'],\n",
    "    'logistic__penalty': ['l1', 'l2'],\n",
    "    'logistic__C': [1, .8, .6]\n",
    "}"
   ]
  },
  {
   "cell_type": "code",
   "execution_count": 57,
   "metadata": {},
   "outputs": [],
   "source": [
    "#indicate parameters for tuning\n",
    "cv_params = {\n",
    " 'cvec__max_features':[100, 2000, 3000 ,4000],\n",
    " 'cvec__ngram_range': [(1, 1), (1, 2), (2, 2)],\n",
    " 'cvec__stop_words': [None, 'english'], \n",
    "    'logistic__solver': ['liblinear'],\n",
    "    'logistic__penalty': ['l1', 'l2'],\n",
    "    'logistic__C': [1, .8, .6]\n",
    "}"
   ]
  },
  {
   "cell_type": "code",
   "execution_count": 58,
   "metadata": {},
   "outputs": [],
   "source": [
    "tvc_log_gs = GridSearchCV(logistic_pipe, param_grid=tf_params, cv = 3, verbose=1)"
   ]
  },
  {
   "cell_type": "code",
   "execution_count": 59,
   "metadata": {},
   "outputs": [],
   "source": [
    "cvc_log_gs = GridSearchCV(cvec_log, param_grid=cv_params, cv = 3, verbose=1)"
   ]
  },
  {
   "cell_type": "code",
   "execution_count": 60,
   "metadata": {},
   "outputs": [
    {
     "name": "stdout",
     "output_type": "stream",
     "text": [
      "Fitting 3 folds for each of 144 candidates, totalling 432 fits\n"
     ]
    },
    {
     "data": {
      "text/plain": [
       "GridSearchCV(cv=3,\n",
       "             estimator=Pipeline(steps=[('tvec', TfidfVectorizer()),\n",
       "                                       ('logistic', LogisticRegression())]),\n",
       "             param_grid={'logistic__C': [1, 0.8, 0.6],\n",
       "                         'logistic__penalty': ['l1', 'l2'],\n",
       "                         'logistic__solver': ['liblinear'],\n",
       "                         'tvec__max_features': [100, 2000, 3000, 4000],\n",
       "                         'tvec__ngram_range': [(1, 1), (1, 2), (2, 2)],\n",
       "                         'tvec__stop_words': [None, 'english']},\n",
       "             verbose=1)"
      ]
     },
     "execution_count": 60,
     "metadata": {},
     "output_type": "execute_result"
    }
   ],
   "source": [
    "tvc_log_gs.fit(X_train, y_train)"
   ]
  },
  {
   "cell_type": "code",
   "execution_count": 61,
   "metadata": {},
   "outputs": [
    {
     "name": "stdout",
     "output_type": "stream",
     "text": [
      "Fitting 3 folds for each of 144 candidates, totalling 432 fits\n"
     ]
    },
    {
     "data": {
      "text/plain": [
       "GridSearchCV(cv=3,\n",
       "             estimator=Pipeline(steps=[('cvec', CountVectorizer()),\n",
       "                                       ('logistic', LogisticRegression())]),\n",
       "             param_grid={'cvec__max_features': [100, 2000, 3000, 4000],\n",
       "                         'cvec__ngram_range': [(1, 1), (1, 2), (2, 2)],\n",
       "                         'cvec__stop_words': [None, 'english'],\n",
       "                         'logistic__C': [1, 0.8, 0.6],\n",
       "                         'logistic__penalty': ['l1', 'l2'],\n",
       "                         'logistic__solver': ['liblinear']},\n",
       "             verbose=1)"
      ]
     },
     "execution_count": 61,
     "metadata": {},
     "output_type": "execute_result"
    }
   ],
   "source": [
    "cvc_log_gs.fit(X_train, y_train)"
   ]
  },
  {
   "cell_type": "code",
   "execution_count": 62,
   "metadata": {
    "scrolled": false
   },
   "outputs": [
    {
     "name": "stdout",
     "output_type": "stream",
     "text": [
      "+-----------------+-------------+------------+----------+\n",
      "|      Model      | Train score | Test score | F1_score |\n",
      "+-----------------+-------------+------------+----------+\n",
      "| TFIDF, Logistic |     0.89    |    0.91    |   0.93   |\n",
      "|  Cvec, Logistic |     0.99    |    0.92    |   0.94   |\n",
      "+-----------------+-------------+------------+----------+\n"
     ]
    }
   ],
   "source": [
    "t = PrettyTable([\"Model\", \"Train score\", \"Test score\", \"F1_score\"])\n",
    "t.add_row([\"TFIDF, Logistic\", round(tvc_log_gs.score(X_train, y_train),2),round(tvc_log_gs.score(X_test, y_test),2),round(f1_score(y_test, tvc_log_gs.predict(X_test)),2)])\n",
    "t.add_row([\"Cvec, Logistic\", round(cvc_log_gs.score(X_train, y_train),2),round(cvc_log_gs.score(X_test, y_test),2),round(f1_score(y_test, cvc_log_gs.predict(X_test)),2)])\n",
    "\n",
    "print(t)"
   ]
  },
  {
   "cell_type": "markdown",
   "metadata": {},
   "source": [
    "**Interpretation**: Notice after tuning the parameters, the test score and F1 score have improved.   \n",
    "Although the model Logistic Regression with TFIDF has the lower train and test score, it has the lowest gap between train and test score (i.e. 2%), which indicates low variance and potentially will work well with new unseen data. Given that the model is evaluated based on unseen data, will use Logistic Regression with TFIDF as production model. "
   ]
  },
  {
   "cell_type": "code",
   "execution_count": 63,
   "metadata": {},
   "outputs": [],
   "source": [
    "#get feature name\n",
    "log_name = logistic_pipe[0].get_feature_names_out()"
   ]
  },
  {
   "cell_type": "code",
   "execution_count": 64,
   "metadata": {},
   "outputs": [],
   "source": [
    "#get coefficient from logistic regression model\n",
    "log_cof = logistic_pipe[1].coef_[0]"
   ]
  },
  {
   "cell_type": "code",
   "execution_count": 65,
   "metadata": {},
   "outputs": [],
   "source": [
    "# zip together the feature name and its coefficient\n",
    "log_imp = zip(log_name, log_cof)"
   ]
  },
  {
   "cell_type": "code",
   "execution_count": 66,
   "metadata": {},
   "outputs": [],
   "source": [
    "# convert into data frame\n",
    "log_data = pd.DataFrame(log_imp, columns=[\"feature\", \"coef\"])"
   ]
  },
  {
   "cell_type": "code",
   "execution_count": 67,
   "metadata": {
    "scrolled": false
   },
   "outputs": [
    {
     "data": {
      "text/html": [
       "<div>\n",
       "<style scoped>\n",
       "    .dataframe tbody tr th:only-of-type {\n",
       "        vertical-align: middle;\n",
       "    }\n",
       "\n",
       "    .dataframe tbody tr th {\n",
       "        vertical-align: top;\n",
       "    }\n",
       "\n",
       "    .dataframe thead th {\n",
       "        text-align: right;\n",
       "    }\n",
       "</style>\n",
       "<table border=\"1\" class=\"dataframe\">\n",
       "  <thead>\n",
       "    <tr style=\"text-align: right;\">\n",
       "      <th></th>\n",
       "      <th>feature</th>\n",
       "      <th>coef</th>\n",
       "    </tr>\n",
       "  </thead>\n",
       "  <tbody>\n",
       "    <tr>\n",
       "      <th>296</th>\n",
       "      <td>alien</td>\n",
       "      <td>4.867595</td>\n",
       "    </tr>\n",
       "    <tr>\n",
       "      <th>10363</th>\n",
       "      <td>ufo</td>\n",
       "      <td>2.754467</td>\n",
       "    </tr>\n",
       "    <tr>\n",
       "      <th>4831</th>\n",
       "      <td>human</td>\n",
       "      <td>1.802752</td>\n",
       "    </tr>\n",
       "    <tr>\n",
       "      <th>9322</th>\n",
       "      <td>specie</td>\n",
       "      <td>1.718990</td>\n",
       "    </tr>\n",
       "    <tr>\n",
       "      <th>10000</th>\n",
       "      <td>think</td>\n",
       "      <td>1.593937</td>\n",
       "    </tr>\n",
       "    <tr>\n",
       "      <th>...</th>\n",
       "      <td>...</td>\n",
       "      <td>...</td>\n",
       "    </tr>\n",
       "    <tr>\n",
       "      <th>5731</th>\n",
       "      <td>launch</td>\n",
       "      <td>-1.934974</td>\n",
       "    </tr>\n",
       "    <tr>\n",
       "      <th>10895</th>\n",
       "      <td>webb</td>\n",
       "      <td>-2.266114</td>\n",
       "    </tr>\n",
       "    <tr>\n",
       "      <th>9883</th>\n",
       "      <td>telescope</td>\n",
       "      <td>-2.717148</td>\n",
       "    </tr>\n",
       "    <tr>\n",
       "      <th>5556</th>\n",
       "      <td>jwst</td>\n",
       "      <td>-3.496413</td>\n",
       "    </tr>\n",
       "    <tr>\n",
       "      <th>9280</th>\n",
       "      <td>space</td>\n",
       "      <td>-3.572816</td>\n",
       "    </tr>\n",
       "  </tbody>\n",
       "</table>\n",
       "<p>11222 rows × 2 columns</p>\n",
       "</div>"
      ],
      "text/plain": [
       "         feature      coef\n",
       "296        alien  4.867595\n",
       "10363        ufo  2.754467\n",
       "4831       human  1.802752\n",
       "9322      specie  1.718990\n",
       "10000      think  1.593937\n",
       "...          ...       ...\n",
       "5731      launch -1.934974\n",
       "10895       webb -2.266114\n",
       "9883   telescope -2.717148\n",
       "5556        jwst -3.496413\n",
       "9280       space -3.572816\n",
       "\n",
       "[11222 rows x 2 columns]"
      ]
     },
     "execution_count": 67,
     "metadata": {},
     "output_type": "execute_result"
    }
   ],
   "source": [
    "log_data.sort_values(\"coef\", ascending=False)"
   ]
  },
  {
   "cell_type": "markdown",
   "metadata": {},
   "source": [
    "**Interpretation**: \n",
    "Aliens posts contain words like aliens, ufo, specie(s), human, extraterrestrial etc. It means the discussion is surrounded exploring the possible existence of aliens that represents another species as compared to normal people (human).\n",
    "\n",
    "Space posts on the other hand, contain space, telescope, launch, jwst ( James Webb Space Telescope ), moon, sun, etc. These words are words that represent more factual topics, like the recent launch of the James Webb Space Telescope into space.\n",
    "\n",
    "The words with highest and lowest coefficient are within our expectation based on our domain knowledge on UFO and space. "
   ]
  },
  {
   "cell_type": "code",
   "execution_count": 68,
   "metadata": {},
   "outputs": [],
   "source": [
    "# create new column to show odds which is converted from coefficient\n",
    "log_data[\"odds\"] = log_data[\"coef\"].apply(lambda x: np.exp(x))"
   ]
  },
  {
   "cell_type": "code",
   "execution_count": 69,
   "metadata": {},
   "outputs": [
    {
     "data": {
      "text/html": [
       "<div>\n",
       "<style scoped>\n",
       "    .dataframe tbody tr th:only-of-type {\n",
       "        vertical-align: middle;\n",
       "    }\n",
       "\n",
       "    .dataframe tbody tr th {\n",
       "        vertical-align: top;\n",
       "    }\n",
       "\n",
       "    .dataframe thead th {\n",
       "        text-align: right;\n",
       "    }\n",
       "</style>\n",
       "<table border=\"1\" class=\"dataframe\">\n",
       "  <thead>\n",
       "    <tr style=\"text-align: right;\">\n",
       "      <th></th>\n",
       "      <th>feature</th>\n",
       "      <th>coef</th>\n",
       "      <th>odds</th>\n",
       "    </tr>\n",
       "  </thead>\n",
       "  <tbody>\n",
       "    <tr>\n",
       "      <th>296</th>\n",
       "      <td>alien</td>\n",
       "      <td>4.867595</td>\n",
       "      <td>130.007807</td>\n",
       "    </tr>\n",
       "    <tr>\n",
       "      <th>10363</th>\n",
       "      <td>ufo</td>\n",
       "      <td>2.754467</td>\n",
       "      <td>15.712656</td>\n",
       "    </tr>\n",
       "    <tr>\n",
       "      <th>4831</th>\n",
       "      <td>human</td>\n",
       "      <td>1.802752</td>\n",
       "      <td>6.066317</td>\n",
       "    </tr>\n",
       "    <tr>\n",
       "      <th>9322</th>\n",
       "      <td>specie</td>\n",
       "      <td>1.718990</td>\n",
       "      <td>5.578891</td>\n",
       "    </tr>\n",
       "    <tr>\n",
       "      <th>10000</th>\n",
       "      <td>think</td>\n",
       "      <td>1.593937</td>\n",
       "      <td>4.923092</td>\n",
       "    </tr>\n",
       "    <tr>\n",
       "      <th>...</th>\n",
       "      <td>...</td>\n",
       "      <td>...</td>\n",
       "      <td>...</td>\n",
       "    </tr>\n",
       "    <tr>\n",
       "      <th>5731</th>\n",
       "      <td>launch</td>\n",
       "      <td>-1.934974</td>\n",
       "      <td>0.144428</td>\n",
       "    </tr>\n",
       "    <tr>\n",
       "      <th>10895</th>\n",
       "      <td>webb</td>\n",
       "      <td>-2.266114</td>\n",
       "      <td>0.103714</td>\n",
       "    </tr>\n",
       "    <tr>\n",
       "      <th>9883</th>\n",
       "      <td>telescope</td>\n",
       "      <td>-2.717148</td>\n",
       "      <td>0.066063</td>\n",
       "    </tr>\n",
       "    <tr>\n",
       "      <th>5556</th>\n",
       "      <td>jwst</td>\n",
       "      <td>-3.496413</td>\n",
       "      <td>0.030306</td>\n",
       "    </tr>\n",
       "    <tr>\n",
       "      <th>9280</th>\n",
       "      <td>space</td>\n",
       "      <td>-3.572816</td>\n",
       "      <td>0.028077</td>\n",
       "    </tr>\n",
       "  </tbody>\n",
       "</table>\n",
       "<p>11222 rows × 3 columns</p>\n",
       "</div>"
      ],
      "text/plain": [
       "         feature      coef        odds\n",
       "296        alien  4.867595  130.007807\n",
       "10363        ufo  2.754467   15.712656\n",
       "4831       human  1.802752    6.066317\n",
       "9322      specie  1.718990    5.578891\n",
       "10000      think  1.593937    4.923092\n",
       "...          ...       ...         ...\n",
       "5731      launch -1.934974    0.144428\n",
       "10895       webb -2.266114    0.103714\n",
       "9883   telescope -2.717148    0.066063\n",
       "5556        jwst -3.496413    0.030306\n",
       "9280       space -3.572816    0.028077\n",
       "\n",
       "[11222 rows x 3 columns]"
      ]
     },
     "execution_count": 69,
     "metadata": {},
     "output_type": "execute_result"
    }
   ],
   "source": [
    "log_data.sort_values(\"coef\", ascending=False)"
   ]
  },
  {
   "cell_type": "markdown",
   "metadata": {},
   "source": [
    "**Interpretation**: To interpret coefficient of Logistic Regression, the coefficient needs to be \"exponentiated\" to be odds. Odds > 0 means more likely to be classified as \"aliens\", while odds < 0 means more likely to be classified as \"space\". For example, the feature \"aliens\" has odds of 153, meaning holding all other variable constant, the existence of word \"aliens\" will increase the odds 153 times to be classified as \"aliens\". "
   ]
  },
  {
   "cell_type": "code",
   "execution_count": 70,
   "metadata": {},
   "outputs": [],
   "source": [
    "#create a new column for absolute value of coefficient \n",
    "log_data[\"abs_value\"] = log_data[\"coef\"].map(lambda x: abs(x))\n",
    "#create a new column to show different color for coefficient below and above 0\n",
    "log_data[\"color\"] = log_data[\"coef\"].map(lambda x: \"green\" if x > 0 else \"red\")"
   ]
  },
  {
   "cell_type": "code",
   "execution_count": 71,
   "metadata": {},
   "outputs": [],
   "source": [
    "log_data = log_data.sort_values(\"abs_value\", ascending=False)\n"
   ]
  },
  {
   "cell_type": "code",
   "execution_count": 72,
   "metadata": {},
   "outputs": [
    {
     "data": {
      "image/png": "[encoded data removed]",
      "text/plain": [
       "<Figure size 864x432 with 1 Axes>"
      ]
     },
     "metadata": {
      "needs_background": "light"
     },
     "output_type": "display_data"
    }
   ],
   "source": [
    "plt.figure(figsize=(12,6))\n",
    "ax = sns.barplot(x = \"coef\", y= \"feature\", data = log_data.head(20), palette= log_data[\"color\"].head(20) )\n",
    "ax.set_title(\"Top 20 features\", fontsize = 20)\n",
    "ax.set_xlabel(\"Coefficient\", fontsize = 20)\n",
    "ax.set_ylabel(\"Feature\", fontsize = 20)\n",
    "ax.set_yticklabels(ax.get_yticklabels(),fontsize =12);"
   ]
  },
  {
   "cell_type": "code",
   "execution_count": 73,
   "metadata": {
    "scrolled": false
   },
   "outputs": [
    {
     "data": {
      "text/plain": [
       "Text(0.5, 1.0, 'Confusion matrix Logistic Regression model')"
      ]
     },
     "execution_count": 73,
     "metadata": {},
     "output_type": "execute_result"
    },
    {
     "data": {
      "image/png": "[encoded data removed]",
      "text/plain": [
       "<Figure size 432x288 with 2 Axes>"
      ]
     },
     "metadata": {
      "needs_background": "light"
     },
     "output_type": "display_data"
    }
   ],
   "source": [
    "ConfusionMatrixDisplay.from_predictions(y_test, tvc_log_gs.predict(X_test), cmap=\"Blues\")\n",
    "plt.title(\"Confusion matrix Logistic Regression model\")"
   ]
  },
  {
   "cell_type": "markdown",
   "metadata": {},
   "source": [
    "**Interpretation:** The model has higher false positive (22) than false negative (15). It means more space posts are wrongly classified as aliens posts than aliens posts wrongly classified as space posts (Positive refers to aliens post). Given the purpose of the classification is for marketing purpose, the higher error of false positive means marketing effort on UFO could have wrongly directed to space, potentially targeting the wrong interest group.    \n",
    "\n",
    "Anyway, lower false negative is still desirable in this case because it means the marketing effort rarely \"missed\" its intended target group. "
   ]
  },
  {
   "cell_type": "markdown",
   "metadata": {},
   "source": [
    "Evaluation and Conceptual Understanding\n",
    "\n",
    "- Does the student accurately identify and explain the baseline score?  \n",
    "Ans: Yes, explained Logistic Regression as baseline score\n",
    "- Does the student select and use metrics relevant to the problem objective?  \n",
    "Ans: Yes, calculated accuracy and F1 score.\n",
    "- Does the student interpret the results of their model for purposes of inference?   \n",
    "Ans: Yes, explained F1 score in the context of marketing \n",
    "- Is domain knowledge demonstrated when interpreting results?  \n",
    "Ans: Yes, analysed highest and lowest coefficient words and explained why words with highest and lowest logistic regression are within expectation. \n",
    "- Does the student provide appropriate interpretation with regards to descriptive and inferential statistics?  \n",
    "Ans: Explained what logistic coefficient means. "
   ]
  },
  {
   "cell_type": "markdown",
   "metadata": {},
   "source": [
    "## Conclusions and Recommendations"
   ]
  },
  {
   "cell_type": "markdown",
   "metadata": {},
   "source": [
    "Based on top coefficient words, the model is able to classify aliens posts from space posts with high accuracy and low false positive/false negative. It is clear that UFO enthusiasts are interested in finding out how different aliens are, if they exist, when compared to us as human being. Hence, if MIB wants to capture the attention of UFO enthusiasts, words such as \"aliens\", \"UFO\", \"human\", \"people\", \"species\" must be used in marketing effort. For example: \"Just like the human species, maybe aliens driving the UFO are also constantly thinking what to eat later\".   \n",
    "\n",
    "UFO enthusiasts can also have a high level feeling of what other UFO enthusiasts are discussing currently, since the top coefficient words may change if the web scrapping scope is extended to more posts or is done at a different time eg. 10 years earlier. We are able to monitor what are the key focus when people discuss aliens over a long period of time. \n",
    "\n",
    "For future steps, we can include sentiment analysis and topic modelling. Sentiment analysis can help to identify whether people are feeling positive or negative on aliens, perhaps MIB will disclose what they know about aliens if the positivity has reached certain level. Topic modelling can help to identify the specific topics people are discussing on aliens, it would help MIB in narrowing down the topic to focus in marketing materials. "
   ]
  },
  {
   "cell_type": "markdown",
   "metadata": {},
   "source": [
    "Conclusion and Recommendations\n",
    "\n",
    "- Does the student provide appropriate context to connect individual steps back to the overall project?  \n",
    "Ans: Yes\n",
    "- Is it clear how the final recommendations were reached?   \n",
    "Ans: Yes\n",
    "- Are the conclusions/recommendations clearly stated?  \n",
    "Ans: Yes\n",
    "- Does the conclusion answer the original problem statement?  \n",
    "Ans: Yes, identified top words.\n",
    "- Does the student address how findings of this research can be applied for the benefit of stakeholders?  \n",
    "Ans: Yes both MIB and secondary stakeholders.\n",
    "- Are future steps to move the project forward identified?  \n",
    "Ans: Sentiment analysis and topic modelling. "
   ]
  },
  {
   "cell_type": "markdown",
   "metadata": {},
   "source": [
    "\n"
   ]
  }
 ],
 "metadata": {
  "anaconda-cloud": {},
  "kernelspec": {
   "display_name": "Python 3",
   "language": "python",
   "name": "python3"
  },
  "language_info": {
   "codemirror_mode": {
    "name": "ipython",
    "version": 3
   },
   "file_extension": ".py",
   "mimetype": "text/x-python",
   "name": "python",
   "nbconvert_exporter": "python",
   "pygments_lexer": "ipython3",
   "version": "3.8.8"
  }
 },
 "nbformat": 4,
 "nbformat_minor": 4
}
